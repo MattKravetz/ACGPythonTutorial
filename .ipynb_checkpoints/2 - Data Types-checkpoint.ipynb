{
 "cells": [
  {
   "cell_type": "markdown",
   "metadata": {},
   "source": [
    "# Data Types and Iteration\n",
    "<sup>By Matt Kravetz</sup>\n",
    "\n",
    "Welcome to the second interactive Python tutorial!  Here, we will be expanding on our first tutorial by covering two more fundemental concepts of the Python programming langauge - data types, and iteration. Before we begin, please press File->Make a Copy to make a copy of this notebook. That way, you will be able to edit this code to experiment with the language features as we discuss them. "
   ]
  },
  {
   "cell_type": "markdown",
   "metadata": {},
   "source": [
    "### What is a type?"
   ]
  },
  {
   "cell_type": "markdown",
   "metadata": {},
   "source": [
    "Before we get back into code, let's discuss a bit of terminology and history.  \n",
    "\n",
    "Python is what is known as a *object-oriented programming language*.  An object is essentially a bundle that holds two things: data, and code that operates on the data. At first, this may sound a bit mysterious -  but you will hopefully see how this is a  natural and intuitive concept.  \n",
    "\n",
    "Like many things in computer science, the concept of *objects* emerged somewhat organically. The origin of objects and types are quite similar to that of the *function*, which we introduced in the first tutorial.  Let's revisit a bit of that history to get grounded."
   ]
  },
  {
   "cell_type": "markdown",
   "metadata": {},
   "source": [
    "Early programmers wrote in a purely *imperative* style, meaning that they wrote code that executed sequentially, one line after another. This worked, but proved to be tedious and prone to error.  \n",
    "\n",
    "Recall our early attempts at coding up the \"what to wear\" app from the introductory tutorial:"
   ]
  },
  {
   "cell_type": "code",
   "execution_count": 3,
   "metadata": {
    "collapsed": false
   },
   "outputs": [
    {
     "name": "stdout",
     "output_type": "stream",
     "text": [
      "Wear a light jacket\n"
     ]
    }
   ],
   "source": [
    "temp_in_celcius = 20\n",
    "temp_in_fahrenheit = ((temp_in_celcius * 9) / 5) + 32 \n",
    "\n",
    "if temp_in_fahrenheit > 72:\n",
    "    print(\"Wear a t-shirt\")\n",
    "elif temp_in_fahrenheit > 60:\n",
    "    print(\"Wear a light jacket\")\n",
    "else:\n",
    "    print(\"Wear a parka\")"
   ]
  },
  {
   "cell_type": "markdown",
   "metadata": {},
   "source": [
    "This code works perfectly well, and does exactly what we hoped it would. But, we soon discovered that it is very limited.  If we wanted to check what to wear for a whole week, we would have to copy-and-paste this code 7 times and remember to update the <code>temp_in_celcius</code> variable for each pasted code block.  What a pain!  \n",
    "\n",
    "Early programmers ran into the same problem, and invented the *subroutine* (which we more commonly refer to as a *function* today) to solve this problem.  Rather than copying-and-pasting our code 7 times, we can simply define a *function* that encapsulates our logic, and call that function as many times as we'd like."
   ]
  },
  {
   "cell_type": "markdown",
   "metadata": {},
   "source": [
    "After a few tweaks, we ended up with the following *function* to encapsulate our \"what ot wear\" logic:"
   ]
  },
  {
   "cell_type": "code",
   "execution_count": 5,
   "metadata": {
    "collapsed": true
   },
   "outputs": [],
   "source": [
    "def what_to_wear_v3(temp_in_celcius, t_shirt_cutoff=72, light_jacket_cutoff=60):\n",
    "    \"\"\" This function tells the user what to pack for a trip to Canada, given a temperature in Celcius.  \n",
    "        The user can optionally provide their own \"cutoff\" termperatures for t-shirts and light jackets.\n",
    "    \"\"\"\n",
    "    \n",
    "    temp_in_fahrenheit = ((temp_in_celcius * 9) / 5) + 32 \n",
    "\n",
    "    if temp_in_fahrenheit > t_shirt_cutoff:\n",
    "        print(\"Wear a t-shirt\")\n",
    "    elif temp_in_fahrenheit > light_jacket_cutoff:\n",
    "        print(\"Wear a light jacket\")\n",
    "    else:\n",
    "        print(\"Wear a parka\")"
   ]
  },
  {
   "cell_type": "markdown",
   "metadata": {},
   "source": [
    "We could then call this code as many times as we want, by simply passing in our desired values for <code>temp_in_celcius</code>:"
   ]
  },
  {
   "cell_type": "code",
   "execution_count": 11,
   "metadata": {
    "collapsed": false
   },
   "outputs": [
    {
     "name": "stdout",
     "output_type": "stream",
     "text": [
      "Wear a light jacket\n"
     ]
    }
   ],
   "source": [
    "what_to_wear_v3(20)"
   ]
  },
  {
   "cell_type": "code",
   "execution_count": 12,
   "metadata": {
    "collapsed": false
   },
   "outputs": [
    {
     "name": "stdout",
     "output_type": "stream",
     "text": [
      "Wear a parka\n"
     ]
    }
   ],
   "source": [
    "what_to_wear_v3(15)"
   ]
  },
  {
   "cell_type": "code",
   "execution_count": 13,
   "metadata": {
    "collapsed": false
   },
   "outputs": [
    {
     "name": "stdout",
     "output_type": "stream",
     "text": [
      "Wear a t-shirt\n"
     ]
    }
   ],
   "source": [
    "what_to_wear_v3(35)"
   ]
  },
  {
   "cell_type": "markdown",
   "metadata": {},
   "source": [
    "As mentioned above *objects* emerged in a similar fashion.  Programmers are the laziest folks you'll ever meet - they *hate* doing more work than they need to! They typically operate under the principle of DRY - don't repeat yourself. As programming started to become more widespread, coders found themselves solving the same problems over and over again for certain types of data.  \n",
    "\n",
    "One common example is converting a *string* of characters from lower-case to upper-case.  It's fairly straightforward to implement a *function* to do this for us.  But, it is tedious to re-define our function every time we need to solve this problem. Early programmers also noticed that such a function is only really useful for *strings* - there's no such thing as lower-case and upper-case numbers, for example.  \n",
    "\n",
    "Once we realize that this \"to upper-case\" opereration is only relavent when we're dealing with *strings*, it becomes clear that there would be many advantages to having this operation explicitly associated with *strings*.  This would save us the trouble of re-defining our \"to upper-case\" *function* every time we wished to use "
   ]
  },
  {
   "cell_type": "code",
   "execution_count": null,
   "metadata": {
    "collapsed": true
   },
   "outputs": [],
   "source": []
  }
 ],
 "metadata": {
  "kernelspec": {
   "display_name": "Python 3",
   "language": "python",
   "name": "python3"
  },
  "language_info": {
   "codemirror_mode": {
    "name": "ipython",
    "version": 3
   },
   "file_extension": ".py",
   "mimetype": "text/x-python",
   "name": "python",
   "nbconvert_exporter": "python",
   "pygments_lexer": "ipython3",
   "version": "3.5.3"
  },
  "widgets": {
   "state": {},
   "version": "1.1.2"
  }
 },
 "nbformat": 4,
 "nbformat_minor": 0
}

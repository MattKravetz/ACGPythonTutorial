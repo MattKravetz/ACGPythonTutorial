{
 "cells": [
  {
   "cell_type": "markdown",
   "metadata": {},
   "source": [
    "# Python in the Wild\n",
    "<sup>By Matt Kravetz</sup>\n",
    "\n",
    "Welcome to the final interactive Python tutorial!  \n",
    "\n",
    "In our previous tutorials, we introduced some of the core concepts of the Python programming langauge - data types, functions, iteration, and collections (specifically, the <code>list</code>, the <code>tuple</code>, and the <code>dictionary</code>.  We also learned how these different tools can be strung together to build powerful tools, such as our wonderful <code>what_to_wear_v4</code> function.  \n",
    "\n",
    "In this final tutorial, we're going to attempt to build a *real* version of the <code>what_to_wear</code> function.  This function will interact with public APIs to pull in real weather data, and make a recommendation based on future weather conditions.  It will tell us what we need to pack for an upcoming Roundtable trip by checking the weather forecast. We won't do it here, but this mini-app could easily be published as a Alexa Skill or as a Google Assistant action (both of which have excellent Python API's!). Cool, huh? \n",
    "\n",
    "Some of the tools used here are outside the scope of the previous tutorials, and may be a bit thin on explanation.  This is intentional!  As you continue to learn how to code, you will find that *searching* for information on code that you don't yet understand is the single best way to learn.  A simple Google search along the lines of \"Python [topic you don't understand]\" will almost always bring you to an excellent resource to learn more. Also, feel free to experiment!  Tear apart this function, and try running bits of it in the code cells of this notebook."
   ]
  },
  {
   "cell_type": "markdown",
   "metadata": {},
   "source": [
    "<div class=\"alert alert-info\">\n",
    "    <strong>Note:</strong> \n",
    "    <p>Feel free to interact with the notebooks as you wish - you can add cells, delete cells, and edit existing cells at any point. I highly recommend doing so, \n",
    "        as experimentation is by far the best way to learn.</p>\n",
    "    <p> This notebook will self-destruct after 10 minutes of inactivity, discrarding any changes you have made.\n",
    "        You can always re-launch a fresh notebook by navigating to <a>10.0.0.7:8000</a>.\n",
    "\n",
    "</div>\n",
    "\n",
    "<link rel=\"stylesheet\" href=\"https://maxcdn.bootstrapcdn.com/bootstrap/3.3.7/css/bootstrap.min.css\">\n",
    "<script src=\"https://ajax.googleapis.com/ajax/libs/jquery/3.1.1/jquery.min.js\"></script>\n",
    "\n",
    "<script src=\"https://maxcdn.bootstrapcdn.com/bootstrap/3.3.7/js/bootstrap.min.js\"></script>"
   ]
  },
  {
   "cell_type": "code",
   "execution_count": 221,
   "metadata": {
    "collapsed": false
   },
   "outputs": [],
   "source": [
    "# Imports are a way to pull other people's projects into our work.  \n",
    "# These packages will help us retrieve parse data from the internet \n",
    "import requests\n",
    "import gzip\n",
    "import json\n",
    "\n",
    "\n",
    "def get_city_dict():\n",
    "    \"\"\"  Returns the city list as a dictionary where keys are the city names and values are the city ids\"\"\"\n",
    "    \n",
    "    URL = \"http://bulk.openweathermap.org/sample/city.list.us.json.gz\"\n",
    "    \n",
    "    city_list_compressed = requests.get(URL).content\n",
    "    city_list_bytes = gzip.decompress(city_list_compressed)\n",
    "    \n",
    "    # The following two lines use a technique called \"comprehensions\".  \n",
    "    # These are very powerful tools - look them up and learn more!\n",
    "    city_list_json = [json.loads(x) for x in city_list_bytes.decode().split('\\n')[:-1]]\n",
    "    city_dict = {record['name'].lower(): record['_id'] for record in city_list_json}\n",
    "    \n",
    "    return city_dict\n",
    "\n",
    "def what_to_pack(city, t_shirt_cutoff=72, light_jacket_cutoff=60):\n",
    "    \"\"\" This function tells the user what to pack for a Roundtable trip.\n",
    "        \n",
    "        It will make a request to the OpenWeatherMap API to retrive a forecast, then will \n",
    "    \n",
    "        The user can optionally provide their own \"cutoff\" termperatures for t-shirts and light jackets.\n",
    "        The recommendation is returned to the user as a string\n",
    "    \"\"\"\n",
    "    \n",
    "    \n",
    "    city = city.lower()\n",
    "    city_dict = get_city_dict()\n",
    "    try:\n",
    "        city_id = city_dict[city]\n",
    "    except KeyError:\n",
    "        raise Exception(\"The city you asked for isn't in the city list!\")\n",
    "    \n",
    "    # This is our API key from OpenWeatherMap.  If you would like to create your own version of this app, \n",
    "    # register for a free account on OpenWeatherMap and obtain your API key from https://home.openweathermap.org/api_keys\n",
    "    API_KEY = \"6b02e1d7381bb7136d4ebd53cc5bca91\"\n",
    "    API_URL = \"http://api.openweathermap.org/data/2.5/forecast?id=\" + str(city_id) + \"&APPID=\" + API_KEY + \"&units=metric\"\n",
    "    r = requests.get(API_URL)\n",
    "    \n",
    "    # Grab our forecast from the API response\n",
    "    forecast_raw = json.loads(r.content.decode())['list']\n",
    "    \n",
    "    # Extract the date, temperature, and main weather forecast from our forecast json dump\n",
    "    hourly_forecast = [[f['dt_txt'], f['main']['temp'], f['weather'][0]['main']] for f in forecast_raw]\n",
    "\n",
    "    # Convert the temperatures from C to F\n",
    "    for fc in hourly_forecast:\n",
    "        temp_in_celcius = fc[1]\n",
    "        temp_in_fahrenheit = ((temp_in_celcius * 9) / 5) + 32  \n",
    "        fc[1] = temp_in_fahrenheit\n",
    "    \n",
    "    # Iterate through the hourly forecast, which gives data for the next 5 days.\n",
    "    # Track what we need to pack based on the preferences passed in through the \n",
    "    # t_shirt_cutoff and light_jacket_cutoff arguments\n",
    "    # Results are stored in a 'set', holds *unique* objects in an unsorted order\n",
    "    max_temp = None\n",
    "    min_temp = None\n",
    "    packing_list = set()\n",
    "    for time, temp, weather in hourly_forecast:\n",
    "        \n",
    "        # We also want to keep track of our max and min temps\n",
    "        if max_temp is None or temp > max_temp:\n",
    "            max_temp = temp\n",
    "        if min_temp is None or temp < min_temp:\n",
    "            min_temp = temp\n",
    "        \n",
    "        # Similar logic from our earlier examples, except we add the item to our packing_list\n",
    "        if temp > t_shirt_cutoff:\n",
    "            packing_list.add(\"t-shirt\")\n",
    "        elif temp > light_jacket_cutoff:\n",
    "            packing_list.add(\"light jacket\")\n",
    "        else:\n",
    "            packing_list.add(\"parka\")\n",
    "        \n",
    "        # Also check to see if we need anything for the weather conditions\n",
    "        if weather == 'Snow':\n",
    "            packing_list.add(\"snow boots\")\n",
    "        elif weather == \"Rain\":\n",
    "            packing_list.add(\"umbrella\")\n",
    "            \n",
    "            # If it's cold, we should be fine in a parka or light jacket.  \n",
    "            # But if it's too warm, we should bring a rain coat\n",
    "            if temp > t_shirt_cutoff:\n",
    "                packing_list.add(\"rain coat\")\n",
    "    \n",
    "    # Build our reccomendation language.  If we hooked this into Alexa or Google Assistant, we could have \n",
    "    # a voice read this message to us!\n",
    "    message = (\"For your upcoming trip to {city}, you should pack the following items: {items}. The maximum temperature will be\"\n",
    "               \" {max_temp} F.  The minimum temperature will be {min_temp} F\").format(city=city.capitalize(),\n",
    "                                                                                items=\", \".join(packing_list),\n",
    "                                                                                min_temp=min_temp,\n",
    "                                                                                max_temp=max_temp)\n",
    "\n",
    "    return message"
   ]
  },
  {
   "cell_type": "code",
   "execution_count": 223,
   "metadata": {
    "collapsed": false
   },
   "outputs": [
    {
     "data": {
      "text/plain": [
       "'For your upcoming trip to New york, you should pack the following items: umbrella, snow boots, parka. The maximum temperature will be 38.93 F.  The minimum temperature will be 23.522 F'"
      ]
     },
     "execution_count": 223,
     "metadata": {},
     "output_type": "execute_result"
    }
   ],
   "source": [
    "what_to_pack(\"New York\")"
   ]
  },
  {
   "cell_type": "markdown",
   "metadata": {},
   "source": [
    "### Conclusion and Next Steps \n",
    "\n",
    "And there you have it!  This concludes our Python tutorial.  This last section went 0-60 pretty quickly.... but the intent is to demonstrate that Python is a versital tool worth digging your teeth into.  Although it is a [relatively] friendly and easy-to-learn language, it is not mearly a \"beginner's langauge\".  In fact, Python underpins the essential operations an uncountable number of users - from tech giants like DropBox and Google, to the quant investment powerhouses like Two Sigma and AQR, to the rapid-development cycles of Silicoln Valley start-ups, to a million side-projects from regular folks.  \n",
    "\n",
    "It's a great skill to pick up, and I hope this tutorial inspires you to take the next steps. If you are interested in further learning, there are many, many excellent resources available on the internet. I highly reccomend Al Sweigart’s Automate the Boring Stuff with Python. Sweigart’s book offers a very soft introduction to the language, and presents it in a style that is approachable for both techincal and non-technical readers. It focuses on presenting concepts through real world examples, such as manipulating Excel and Word documents. For a more in-depth discussion, Luciano Ramalho’s Fluent Python is unparalleled.\n",
    "\n",
    "For a video introduction to the language as a whole, I cannot reccomend the talks of Python Core Developer Raymond Hettinger highly enough. In particular, his What makes Python Awesome and Transforming Code into Beautiful, Idiomatic Python keynote talks are excellent. For a video tutorial series, YouTuber sentdex’s channel has a wealth of detailed-yet-accessible content. You can view his “Python 3 Basics Tutorial Series’ here."
   ]
  }
 ],
 "metadata": {
  "kernelspec": {
   "display_name": "Python 3",
   "language": "python",
   "name": "python3"
  },
  "language_info": {
   "codemirror_mode": {
    "name": "ipython",
    "version": 3
   },
   "file_extension": ".py",
   "mimetype": "text/x-python",
   "name": "python",
   "nbconvert_exporter": "python",
   "pygments_lexer": "ipython3",
   "version": "3.5.3"
  },
  "widgets": {
   "state": {},
   "version": "1.1.2"
  }
 },
 "nbformat": 4,
 "nbformat_minor": 0
}

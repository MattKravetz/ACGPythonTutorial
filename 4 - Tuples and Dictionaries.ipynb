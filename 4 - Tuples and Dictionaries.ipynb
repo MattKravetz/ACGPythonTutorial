{
 "cells": [
  {
   "cell_type": "markdown",
   "metadata": {},
   "source": [
    "# Tuples and Dictionaries\n",
    "<sup>By Matt Kravetz</sup>\n",
    "\n",
    "Welcome to the fourth interactive Python tutorial!  \n",
    "\n",
    "In our previous tutorial, we introduced the concept of the *collection* with one of the most useful Python data types, the <code>list</code>.  In our fourth tutorial, we will expand this discussion by introducing two more collections - the <code>tuple</code>, and the <code>dictionary</code>."
   ]
  },
  {
   "cell_type": "markdown",
   "metadata": {},
   "source": [
    "<div class=\"alert alert-info\">\n",
    "    <strong>Note:</strong> \n",
    "    <p>Feel free to interact with the notebooks as you wish - you can add cells, delete cells, and edit existing cells at any point. I highly recommend doing so, \n",
    "        as experimentation is by far the best way to learn.</p>\n",
    "    <p> This notebook will self-destruct after 10 minutes of inactivity, discrarding any changes you have made.\n",
    "        You can always re-launch a fresh notebook by navigating to <a>10.0.0.7:8000</a>.\n",
    "\n",
    "</div>\n",
    "\n",
    "<link rel=\"stylesheet\" href=\"https://maxcdn.bootstrapcdn.com/bootstrap/3.3.7/css/bootstrap.min.css\">\n",
    "<script src=\"https://ajax.googleapis.com/ajax/libs/jquery/3.1.1/jquery.min.js\"></script>\n",
    "<script src=\"https://maxcdn.bootstrapcdn.com/bootstrap/3.3.7/js/bootstrap.min.js\"></script>"
   ]
  },
  {
   "cell_type": "markdown",
   "metadata": {},
   "source": [
    "### Tuples"
   ]
  },
  {
   "cell_type": "markdown",
   "metadata": {},
   "source": [
    "Tuples and lists are deceptively similar.  Both hold a collection of elements, both maintain the order of our elements, and both cain hold elements of many different types. They even look similar!  A tuple is a collection of elements surrounded by soft braces - <code>()</code>.\n",
    "\n",
    "So, what's the difference?  Let's take a look at a quick example to see..."
   ]
  },
  {
   "cell_type": "markdown",
   "metadata": {},
   "source": [
    "Lists and tuples are constructed similarly:"
   ]
  },
  {
   "cell_type": "code",
   "execution_count": 13,
   "metadata": {
    "collapsed": true
   },
   "outputs": [],
   "source": [
    "my_list = [1, 2, 3]\n",
    "my_tuple = (1, 2, 3)"
   ]
  },
  {
   "cell_type": "markdown",
   "metadata": {},
   "source": [
    "Both allow us to access elements by index"
   ]
  },
  {
   "cell_type": "code",
   "execution_count": 14,
   "metadata": {
    "collapsed": false
   },
   "outputs": [
    {
     "name": "stdout",
     "output_type": "stream",
     "text": [
      "0th element of my_list: 1\n",
      "0th element of my_tuple: 1\n"
     ]
    }
   ],
   "source": [
    "print(\"0th element of my_list:\", my_list[0])\n",
    "print(\"0th element of my_tuple:\", my_tuple[0])"
   ]
  },
  {
   "cell_type": "markdown",
   "metadata": {},
   "source": [
    "Both us to slice indicies.  Notice how slicing a list returns a list, and slicing a tuple returns a tuple"
   ]
  },
  {
   "cell_type": "code",
   "execution_count": 15,
   "metadata": {
    "collapsed": false
   },
   "outputs": [
    {
     "name": "stdout",
     "output_type": "stream",
     "text": [
      "1st and 2nd elements of my_list: [2, 3]\n",
      "1st and 2nd elements of my_tuple: (2, 3)\n"
     ]
    }
   ],
   "source": [
    "print(\"1st and 2nd elements of my_list:\", my_list[1:])\n",
    "print(\"1st and 2nd elements of my_tuple:\", my_tuple[1:])"
   ]
  },
  {
   "cell_type": "markdown",
   "metadata": {},
   "source": [
    "We can modify a list in place."
   ]
  },
  {
   "cell_type": "code",
   "execution_count": 16,
   "metadata": {
    "collapsed": false
   },
   "outputs": [
    {
     "name": "stdout",
     "output_type": "stream",
     "text": [
      "my_list currently contains: [1, 2, 3]\n",
      "After reassigning the 0th index, my_list now contains: [42, 2, 3]\n"
     ]
    }
   ],
   "source": [
    "print(\"my_list currently contains:\", my_list)\n",
    "\n",
    "# Overwrite the element at the 0th index in my_list with a new value\n",
    "my_list[0] = 42\n",
    "\n",
    "print(\"After reassigning the 0th index, my_list now contains:\", my_list)"
   ]
  },
  {
   "cell_type": "markdown",
   "metadata": {},
   "source": [
    "BUT!  Look what happens when we try to modify a tuple."
   ]
  },
  {
   "cell_type": "code",
   "execution_count": 17,
   "metadata": {
    "collapsed": false
   },
   "outputs": [
    {
     "ename": "TypeError",
     "evalue": "'tuple' object does not support item assignment",
     "output_type": "error",
     "traceback": [
      "\u001b[1;31m\u001b[0m",
      "\u001b[1;31mTypeError\u001b[0mTraceback (most recent call last)",
      "\u001b[1;32m<ipython-input-17-c1f03ccdfbe6>\u001b[0m in \u001b[0;36m<module>\u001b[1;34m()\u001b[0m\n\u001b[1;32m----> 1\u001b[1;33m \u001b[0mmy_tuple\u001b[0m\u001b[1;33m[\u001b[0m\u001b[1;36m0\u001b[0m\u001b[1;33m]\u001b[0m \u001b[1;33m=\u001b[0m \u001b[1;36m42\u001b[0m\u001b[1;33m\u001b[0m\u001b[0m\n\u001b[0m",
      "\u001b[1;31mTypeError\u001b[0m: 'tuple' object does not support item assignment"
     ]
    }
   ],
   "source": [
    "my_tuple[0] = 42"
   ]
  },
  {
   "cell_type": "markdown",
   "metadata": {},
   "source": [
    "We get this strange error - <code>TypeError: 'tuple' object does not support item assignment</code>.  What gives!?\n",
    "\n",
    "As it happens, this is the key difference between tuples and lists.  Lists are *mutable* which means they can be modified.  In addition to the item assignment demonstrated above, the <code>list</code> type also implements methods such as <code>pop</code>, which removes and returns the last element, and <code>append</code>, which adds an element to the end of the list. These operations occur *in-place*, meaning that the existing <code>list</code> object is modified in memory.\n",
    "\n",
    "Tuples, on the other hand, are *immutable*, meaning that they cannot be modified.  Once a tuple is created, it's contents are set in stone and cannot be changed.  We cannot add new elements to the end of a tuple, nor can we remove elements from the end of a tuple.  "
   ]
  },
  {
   "cell_type": "markdown",
   "metadata": {},
   "source": [
    "### Why should we use tuples?"
   ]
  },
  {
   "cell_type": "markdown",
   "metadata": {},
   "source": [
    "In practice, we can use a list in almost every situation where we would us a tuple.  This begs the question - if tuples are essentially just lists that don't allow modifications, why would we ever use them?  Can't we just use lists all the time?\n",
    "\n",
    "Well, sure.  You absolutely could use lists in place of tuples. The reason we don't do this is because tuples let us be *explicit* about our intentions. When we create a tuple, we are telling ourselves (and anyone else that may be reading or maintaing our code) that the collection will not be modified.  As programmers, we should always seek to be explicit. Explicit code is significantly easier to read and, as it happens, we tend to spend much more time *reading* code than we spend *writing* code.\n",
    "\n",
    "Let's return to our <code>what_to_wear</code> mini-app to see how tuples can help! "
   ]
  },
  {
   "cell_type": "code",
   "execution_count": 19,
   "metadata": {
    "collapsed": true
   },
   "outputs": [],
   "source": [
    "# First, we must re-define our what_to_wear function so that it is available in this Notebook.  \n",
    "# We will be using the v4 version from tutorial 3.\n",
    "\n",
    "def what_to_wear_v4(temp_in_celcius, t_shirt_cutoff=72, light_jacket_cutoff=60):\n",
    "    \"\"\" This function tells the user what to pack for a trip to Canada, given a temperature in Celcius.  \n",
    "        The user can optionally provide their own \"cutoff\" termperatures for t-shirts and light jackets.\n",
    "        The recommendation is returned to the user as a string\n",
    "    \"\"\"\n",
    "    \n",
    "    temp_in_fahrenheit = ((temp_in_celcius * 9) / 5) + 32 \n",
    "\n",
    "    if temp_in_fahrenheit > t_shirt_cutoff:\n",
    "        recommendation = \"Wear a t-shirt\"\n",
    "    elif temp_in_fahrenheit > light_jacket_cutoff:\n",
    "        recommendation = \"Wear a light jacket\"\n",
    "    else:\n",
    "        recommendation = \"Wear a parka\"\n",
    "    \n",
    "    return recommendation"
   ]
  },
  {
   "cell_type": "markdown",
   "metadata": {},
   "source": [
    "Now, our mini-app has been in use for quite some time, and our co-workers continuing to request our help in packing for their  Roundtable trips! Since we added the custom cutoffs (<code>t_shirt_cutoff</code> and <code>light_jacket_cutoff</code>) as keyword arguments in tutorial 1, our coworkers are able to get customized advice. \n",
    "\n",
    "It would seem that all is well... but our coworkers have somehow internalized our programmer's ethos - DRY (don't repeat yourself)!  After some time, you start getting complaints from your coworkers.  They say that their preferences don't change - so why do they need to remind you of their <code>t_shirt_cutoff</code> and <code>light_jacket_cutoff</code> preferences *every* time they need packing advice?  Can't you just save this information somewhere and recall it as needed?\n",
    "\n",
    "If we're going to record our coworkers preferences, we will need to store their personal cutoffs in a collection of elements with a fixed length (2 - one element for each of our cutoffs). Furthermore, we know that the contents of this collection will not change, since our coworkers promised us that their preferences are fixed. Sounds like a job for a tuple!\n",
    "\n",
    "Let's say that we've gathered preferences for all the ACGers that will be attending the next Canadian Auto Roundtable meeting.  Perhaps we can use tuples to provide personalized packing lists for each of person! "
   ]
  },
  {
   "cell_type": "code",
   "execution_count": 24,
   "metadata": {
    "collapsed": true
   },
   "outputs": [],
   "source": [
    "five_day_forecast = [15, 17, 20, 25, 15]\n",
    "\n",
    "tom_prefs = (66, 58) # Tom starts wearing a t shirt when it's 66 deg out, and starts wearing a light jacket when it's 58 deg\n",
    "emma_prefs = (72, 60) # Emma starts wearing a t shirt when it's 72 deg out, and starts wearing a light jacket when it's 60 deg\n",
    "kathy_prefs = (74, 65) # Tom starts wearing a t shirt when it's 74 deg out, and starts wearing a light jacket when it's 65 deg"
   ]
  },
  {
   "cell_type": "markdown",
   "metadata": {},
   "source": [
    "With these records (stored as tuples), we can print out recommendations for each of our Roundtable teamates as follows"
   ]
  },
  {
   "cell_type": "code",
   "execution_count": 25,
   "metadata": {
    "collapsed": false
   },
   "outputs": [
    {
     "data": {
      "text/plain": [
       "'Wear a light jacket'"
      ]
     },
     "execution_count": 25,
     "metadata": {},
     "output_type": "execute_result"
    }
   ],
   "source": [
    "# We can \"unpack\" a tuple into multiple variables by placing the variables\n",
    "# that we would like to assume the tuple's values  on the left side of the = sign, and the tuple on the side of the = sign\n",
    "toms_t_shirt_pref, toms_light_jacket_pref = tom_prefs\n",
    "\n",
    "# We can then pass these preferences into our what_to_wearv4 function to get a recomendation for the 1st day\n",
    "what_to_wear_v4(five_day_forecast[0], toms_t_shirt_pref, toms_light_jacket_pref)"
   ]
  },
  {
   "cell_type": "markdown",
   "metadata": {},
   "source": [
    "Great!  Another interesting capability of tuples is that they can be *unpacked*.  The first line of the previous code cell is an example of this in action - by placing two variable names to the left of an <code>=</code> sign and the tuple to the right of the <code>=</code> sign, we *unpack* the tuple and assign its elements to the provided variables, in order.\n",
    "\n",
    "We can also do this directly in a function call, using Python's handy <code>\\*</code> notation. The <code>\\*</code> allows us to perform this exact same operation (extracting the values from a tuple, in order), without having to store those values in temporary variables.  To use it, we simply insert a <code>\\*</code> immediately before the tuple. The below example produces the same exact output as the example above, but it achieves this in a more succinct manner.  "
   ]
  },
  {
   "cell_type": "code",
   "execution_count": 27,
   "metadata": {
    "collapsed": false
   },
   "outputs": [
    {
     "data": {
      "text/plain": [
       "'Wear a light jacket'"
      ]
     },
     "execution_count": 27,
     "metadata": {},
     "output_type": "execute_result"
    }
   ],
   "source": [
    "what_to_wear_v4(five_day_forecast[0], *tom_prefs)"
   ]
  },
  {
   "cell_type": "markdown",
   "metadata": {},
   "source": [
    "Great!  Let's borrow a bit of code from tutorial 3 to print out daily reccomendations for all Tom"
   ]
  },
  {
   "cell_type": "code",
   "execution_count": 32,
   "metadata": {
    "collapsed": false
   },
   "outputs": [
    {
     "name": "stdout",
     "output_type": "stream",
     "text": [
      "On day 1, Tom should wear a light jacket.\n",
      "On day 2, Tom should wear a light jacket.\n",
      "On day 3, Tom should wear a t-shirt.\n",
      "On day 4, Tom should wear a t-shirt.\n",
      "On day 5, Tom should wear a light jacket.\n"
     ]
    }
   ],
   "source": [
    "# Reproduced from tutorial 3\n",
    "\n",
    "for current_index, daily_temp in enumerate(five_day_forecast):\n",
    "    \n",
    "    # Notice how we use the * syntax to unpack tom's preferences into the what_to_wear_v4 function call\n",
    "    recommendation = what_to_wear_v4(daily_temp, *tom_prefs) \n",
    "    \n",
    "    # These lines are exactly the same as they were in the tutorial 3 example\n",
    "    current_day = current_index + 1 \n",
    "    current_day = str(current_day) \n",
    "    \n",
    "    # This lines are similar, but we add Tom's name to make the message a bit more explicit\n",
    "    message = \"On day \" + current_day + \", Tom should \" + recommendation.lower() + \".\"\n",
    "    \n",
    "    print(message)"
   ]
  },
  {
   "cell_type": "markdown",
   "metadata": {},
   "source": [
    "We can copy and paste this code, swapping in Tom's preferences for Emma and Kathy's preferences, to produce similar outputs for the whole Canadian Auto team."
   ]
  },
  {
   "cell_type": "code",
   "execution_count": 33,
   "metadata": {
    "collapsed": false
   },
   "outputs": [
    {
     "name": "stdout",
     "output_type": "stream",
     "text": [
      "On day 1, Emma should wear a parka.\n",
      "On day 2, Emma should wear a light jacket.\n",
      "On day 3, Emma should wear a light jacket.\n",
      "On day 4, Emma should wear a t-shirt.\n",
      "On day 5, Emma should wear a parka.\n"
     ]
    }
   ],
   "source": [
    "for current_index, daily_temp in enumerate(five_day_forecast):\n",
    "    \n",
    "    # Now we use Emma's preferences...\n",
    "    recommendation = what_to_wear_v4(daily_temp, *emma_prefs) \n",
    "    \n",
    "    # These lines are exactly the same as they were in the tutorial 3 example\n",
    "    current_day = current_index + 1 \n",
    "    current_day = str(current_day) \n",
    "    \n",
    "    # ... And Emma's name\n",
    "    message = \"On day \" + current_day + \", Emma should \" + recommendation.lower() + \".\"\n",
    "    \n",
    "    print(message)"
   ]
  },
  {
   "cell_type": "code",
   "execution_count": 34,
   "metadata": {
    "collapsed": false
   },
   "outputs": [
    {
     "name": "stdout",
     "output_type": "stream",
     "text": [
      "On day 1, Kathy should wear a parka.\n",
      "On day 2, Kathy should wear a parka.\n",
      "On day 3, Kathy should wear a light jacket.\n",
      "On day 4, Kathy should wear a t-shirt.\n",
      "On day 5, Kathy should wear a parka.\n"
     ]
    }
   ],
   "source": [
    "for current_index, daily_temp in enumerate(five_day_forecast):\n",
    "    \n",
    "    # Now we use Kathy's preferences...\n",
    "    recommendation = what_to_wear_v4(daily_temp, *kathy_prefs) \n",
    "    \n",
    "    # These lines are exactly the same as they were in the tutorial 3 example\n",
    "    current_day = current_index + 1 \n",
    "    current_day = str(current_day) \n",
    "    \n",
    "    # ... And Kathy's name\n",
    "    message = \"On day \" + current_day + \", Kathy should \" + recommendation.lower() + \".\"\n",
    "    \n",
    "    print(message)"
   ]
  },
  {
   "cell_type": "markdown",
   "metadata": {},
   "source": [
    "If you've been paying attention throughout this tutorial series, you may have felt a bit of a twitch in your neck as we did those last two code blocks.  After all this talk of DRY - we just copied and pasted code! Surely, you may exclaim, there must be a better way!\n",
    "\n",
    "Of course there is!  But before we can code it up, we'll have to take a brief detour to introduce or next data type, the *dictionary*."
   ]
  },
  {
   "cell_type": "markdown",
   "metadata": {},
   "source": [
    "### Dictionary "
   ]
  },
  {
   "cell_type": "markdown",
   "metadata": {},
   "source": [
    "Dictionaries are, without a doubt, the most fundemental data type in Python.  The more you explore the language, the more you will realize that dictionaries are *everywhere*. There's a good reason for this!  Dictionaries are simple to understand and incredibly powerful to use. \n",
    "\n",
    "Dictionaries are essentially a collection of key/value pairs. They are constructed similarly to lists and tuples, except with dictionaries we use the curly braces (<code>{}</code>). Within the dictionary, we provide a key, followed by a <code>:</code>, followed by the value.\n",
    "\n",
    "When we look up a key in a dictionary, the dictionary gives us the value that is associated with that key (or raises a <code>KeyError</code> if the key is not present in the dictionary).  Keys can be any *immutable* value, such as a <code>str</code>, <code>int</code>, <code>float</code>, or <code>tuple</code>.  The values can be anything we want (including other collections)!  \n",
    "\n",
    "Let's take a look at some simple dictionary examples."
   ]
  },
  {
   "cell_type": "code",
   "execution_count": 35,
   "metadata": {
    "collapsed": true
   },
   "outputs": [],
   "source": [
    "# First, we create the dictionary.  On the first line, we place the key, \"First five letters of the alphabet\",\n",
    "# followed by a colon, then the values we want to associate with this key (the list [\"a\", \"b\", \"c\", \"d\", \"e\"]).\n",
    "# After the value, we place a comma. On the next line, we place our next key, \"Last five letters of the alphabet\", \n",
    "# followed by a colon, then the then the values we want to associate with this key (the list [\"v\", \"w\", \"x\", \"y\", \"z\"])\n",
    "# The choice to seperate these into two lines is entirely arbitrary, and is done for aesthetic reasons only.\n",
    "\n",
    "my_dict = {\"First five letters of the alphabet\": [\"a\", \"b\", \"c\", \"d\", \"e\"],\n",
    "           \"Last five letters of the alphabet\": [\"v\", \"w\", \"x\", \"y\", \"z\"]}"
   ]
  },
  {
   "cell_type": "code",
   "execution_count": 37,
   "metadata": {
    "collapsed": false
   },
   "outputs": [
    {
     "data": {
      "text/plain": [
       "['a', 'b', 'c', 'd', 'e']"
      ]
     },
     "execution_count": 37,
     "metadata": {},
     "output_type": "execute_result"
    }
   ],
   "source": [
    "# If we attempt to look up one of our keys, the dictionary will return the associated value.  We use the hard braces - [] -\n",
    "# to perform this lookup.\n",
    "\n",
    "my_dict[\"First five letters of the alphabet\"]"
   ]
  },
  {
   "cell_type": "code",
   "execution_count": 38,
   "metadata": {
    "collapsed": false
   },
   "outputs": [
    {
     "data": {
      "text/plain": [
       "['v', 'w', 'x', 'y', 'z']"
      ]
     },
     "execution_count": 38,
     "metadata": {},
     "output_type": "execute_result"
    }
   ],
   "source": [
    "# We can perform a similar lookup for the other key in our dictionary\n",
    "my_dict[\"Last five letters of the alphabet\"]"
   ]
  },
  {
   "cell_type": "code",
   "execution_count": 39,
   "metadata": {
    "collapsed": false
   },
   "outputs": [
    {
     "ename": "KeyError",
     "evalue": "'My favorite letters'",
     "output_type": "error",
     "traceback": [
      "\u001b[1;31m\u001b[0m",
      "\u001b[1;31mKeyError\u001b[0mTraceback (most recent call last)",
      "\u001b[1;32m<ipython-input-39-f1cbc3fd2126>\u001b[0m in \u001b[0;36m<module>\u001b[1;34m()\u001b[0m\n\u001b[0;32m      1\u001b[0m \u001b[1;31m# If we try to look up a key that is not in the dictionary, we get a KeyError\u001b[0m\u001b[1;33m\u001b[0m\u001b[1;33m\u001b[0m\u001b[0m\n\u001b[1;32m----> 2\u001b[1;33m \u001b[0mmy_dict\u001b[0m\u001b[1;33m[\u001b[0m\u001b[1;34m\"My favorite letters\"\u001b[0m\u001b[1;33m]\u001b[0m\u001b[1;33m\u001b[0m\u001b[0m\n\u001b[0m",
      "\u001b[1;31mKeyError\u001b[0m: 'My favorite letters'"
     ]
    }
   ],
   "source": [
    "# If we try to look up a key that is not in the dictionary, we get a KeyError\n",
    "my_dict[\"My favorite letters\"]"
   ]
  },
  {
   "cell_type": "code",
   "execution_count": 40,
   "metadata": {
    "collapsed": false
   },
   "outputs": [
    {
     "data": {
      "text/plain": [
       "['f', 'g', 'h', 'i', 'j']"
      ]
     },
     "execution_count": 40,
     "metadata": {},
     "output_type": "execute_result"
    }
   ],
   "source": [
    "# But don't fret!  We can easily add keys to our dictionary like so:\n",
    "my_dict[\"My favorite letters\"] = [\"f\", \"g\", \"h\", \"i\", \"j\"]\n",
    "my_dict[\"My favorite letters\"]"
   ]
  },
  {
   "cell_type": "code",
   "execution_count": 41,
   "metadata": {
    "collapsed": false
   },
   "outputs": [
    {
     "data": {
      "text/plain": [
       "2017"
      ]
     },
     "execution_count": 41,
     "metadata": {},
     "output_type": "execute_result"
    }
   ],
   "source": [
    "# Dictionaries values can be anything, and do not need to be the same within a given dictionary.  For example, we can store the \n",
    "# current year as an integer within our dictionary and access it just as we have been accessing our letter lists\n",
    "\n",
    "my_dict[\"The current year\"] = 2017\n",
    "my_dict[\"The current year\"]"
   ]
  },
  {
   "cell_type": "code",
   "execution_count": 42,
   "metadata": {
    "collapsed": false
   },
   "outputs": [
    {
     "data": {
      "text/plain": [
       "dict_keys(['Last five letters of the alphabet', 'The current year', 'My favorite letters', 'First five letters of the alphabet'])"
      ]
     },
     "execution_count": 42,
     "metadata": {},
     "output_type": "execute_result"
    }
   ],
   "source": [
    "# We can look up all the keys in a dictionary like so\n",
    "my_dict.keys()"
   ]
  },
  {
   "cell_type": "code",
   "execution_count": 44,
   "metadata": {
    "collapsed": false
   },
   "outputs": [
    {
     "data": {
      "text/plain": [
       "dict_values([['v', 'w', 'x', 'y', 'z'], 2017, ['f', 'g', 'h', 'i', 'j'], ['a', 'b', 'c', 'd', 'e']])"
      ]
     },
     "execution_count": 44,
     "metadata": {},
     "output_type": "execute_result"
    }
   ],
   "source": [
    "# Similarly, we can look up all the values\n",
    "my_dict.values()"
   ]
  },
  {
   "cell_type": "code",
   "execution_count": 45,
   "metadata": {
    "collapsed": false
   },
   "outputs": [
    {
     "data": {
      "text/plain": [
       "dict_items([('Last five letters of the alphabet', ['v', 'w', 'x', 'y', 'z']), ('The current year', 2017), ('My favorite letters', ['f', 'g', 'h', 'i', 'j']), ('First five letters of the alphabet', ['a', 'b', 'c', 'd', 'e'])])"
      ]
     },
     "execution_count": 45,
     "metadata": {},
     "output_type": "execute_result"
    }
   ],
   "source": [
    "# And finally, we can grab the keys and values simultaneously\n",
    "my_dict.items()"
   ]
  },
  {
   "cell_type": "markdown",
   "metadata": {},
   "source": [
    "You may have noticed that the dictionary keys are not returned in the order that they were originally inserted in.  This is becuse dictionaries are *unsorted* collections.  The reasons for this are beyond the scope of this tutorial, but have to do with the machinery Python uses behind the scenes to remember which values are associated with which keys.  As a general rule of thumb, you should not use a standard dictionary in situations where maintaining insertion order is needed. "
   ]
  },
  {
   "cell_type": "markdown",
   "metadata": {},
   "source": [
    "### Using a Dictionary to store preferences"
   ]
  },
  {
   "cell_type": "markdown",
   "metadata": {},
   "source": [
    "Dictioanries have numerous use cases, but they are perhaps most commonly used as simple lookup tables.  \n",
    "\n",
    "In the code snippet below, we will construct a dictioanry where the keys are our coworkers names, and the values are their preferences.  We will then use this dicitonary to produce recommedations for everyone!"
   ]
  },
  {
   "cell_type": "code",
   "execution_count": 52,
   "metadata": {
    "collapsed": false
   },
   "outputs": [
    {
     "name": "stdout",
     "output_type": "stream",
     "text": [
      "On day 1, Tom should wear a light jacket.\n",
      "On day 2, Tom should wear a light jacket.\n",
      "On day 3, Tom should wear a t-shirt.\n",
      "On day 4, Tom should wear a t-shirt.\n",
      "On day 5, Tom should wear a light jacket.\n",
      "-----------------------------------------\n",
      "On day 1, Emma should wear a parka.\n",
      "On day 2, Emma should wear a light jacket.\n",
      "On day 3, Emma should wear a light jacket.\n",
      "On day 4, Emma should wear a t-shirt.\n",
      "On day 5, Emma should wear a parka.\n",
      "-----------------------------------------\n",
      "On day 1, Kathy should wear a parka.\n",
      "On day 2, Kathy should wear a parka.\n",
      "On day 3, Kathy should wear a light jacket.\n",
      "On day 4, Kathy should wear a t-shirt.\n",
      "On day 5, Kathy should wear a parka.\n",
      "-----------------------------------------\n"
     ]
    }
   ],
   "source": [
    "acg_preferences = {\"Tom\": (66, 58),\n",
    "                   \"Emma\": (72, 60),\n",
    "                   \"Kathy\": (74, 65)}\n",
    "\n",
    "# We can iterate over the dictionary items to get both the keys and the values.  \n",
    "for coworker, preferences in acg_preferences.items():\n",
    "    \n",
    "    # Then we can use a SECOND for loop to produce recommednations for each day\n",
    "    for current_index, daily_temp in enumerate(five_day_forecast):\n",
    "    \n",
    "        # We use the preferences of the current acg employee to get their recommendation\n",
    "        recommendation = what_to_wear_v4(daily_temp, *preferences) \n",
    "\n",
    "        # These lines are exactly the same as they were in the tutorial 3 example\n",
    "        current_day = current_index + 1 \n",
    "        current_day = str(current_day) \n",
    "\n",
    "        # We use the coworkers name (from the dictionary key) to construct our messasge\n",
    "        message = \"On day \" + current_day + \", \" + coworker + \" should \" + recommendation.lower() + \".\"\n",
    "\n",
    "        print(message)\n",
    "    \n",
    "    # After each coworker's loop completes, we insert a dashed line to make it easier to see the individual's recommendations\n",
    "    print(\"-----------------------------------------\")\n",
    "    "
   ]
  },
  {
   "cell_type": "markdown",
   "metadata": {},
   "source": [
    "And there you have it!  Once again, we have introduced several new layers of complexity in this example.  We used tuple unpacking three times: First, to extract the coworker names and the individual preferences for each tuple in the acg_preferences.items() iterable.  Second, to extract the the current index and the daily temperatue from the iterable produced when we call <code>enumerate</code> on the five_day_forecast <code>list</code>.  Lastly, we use the <code>\\*</code> notation to unpack the invididual preferences into <code>what_to_wear_v4</code> function call.  \n",
    "\n",
    "We also introduced the nested loop for the first time - a *for loop within a for loop*!.  This may look confusing at first, but it has a fairly natural interpretation.  Recall that the inner loop prints a series of messages indicating what an individual should wear.  You can read these nested loops as \"*for each* coworker in the acg_preferences dictionary, print a message indicating our recomendation *for each* day in our five day forecast\".  Notice how our \"natural interpretation\" contains the the phrase \"for each\" twice. The last line in this code block, which prints the horizontal line, is executed after the inner loop has completed, but before the next coworker is considered.    \n",
    "\n",
    "This is pretty dense stuff, so it very well may look a little overwhelming at first. Really take your time to pick that cell apart and really understand what each line does. Use the space below this cell to experiment on your own. "
   ]
  },
  {
   "cell_type": "markdown",
   "metadata": {
    "collapsed": true
   },
   "source": [
    "### Conclusions and Next Steps\n",
    "\n",
    "In this tutorial series, we introduced two more fundemental collections - the *tuple* and the *dictionary*.  These operate quite simialrly to the *list*, but have their own useful characteristics.\n",
    "\n",
    "Overall, you will want to use a *list* when:\n",
    "* You care about the *order* of the items in your collection.\n",
    "* You expect to modify the collection, by adding or removing items.\n",
    "* You need to quickly access elements in your collection by their *position*.\n",
    "* Example: a shopping list, a list of daily temperatures, a list of stock prices, etc.\n",
    "\n",
    "Tuples are useful in cases where:\n",
    "* You care about the *order* of items in your collection.\n",
    "* You need to quickly access elements in your collection by their *position*.\n",
    "* You don't expect to modify the collection after it has been created.\n",
    "* Example: Records, such as an individual's temperature preferences.\n",
    "\n",
    "Finally, the dictionary will be your collectcion of choice if:\n",
    "* You need a structure to associate *keys* with *values*\n",
    "* You do not care about the order of items in your collection\n",
    "* You want to access the data in your collection using a *key* (aka, a label), rather than its position\n",
    "* You expect to modify the collection by adding or removing elements, even even modifying elements in place.\n",
    "* Example: A key-value pair where the keys are colleagures, and the values are their preferences.\n",
    "\n",
    "\n",
    "In the next and last guide, we will break out of \"tutorial mode\" for a moment to demonstrate the power of Python \"in the wild\".  We will build a \"real\" version of app, which will actually communicate with a weather website to obtain a forecast and deliver our recomendations.  This code will be well-commented, but it will not be a \"tutorial\" in the sense that the past notebooks have been.\n",
    "\n",
    "[5. Python in the Wild]()"
   ]
  },
  {
   "cell_type": "markdown",
   "metadata": {},
   "source": []
  }
 ],
 "metadata": {
  "kernelspec": {
   "display_name": "Python 3",
   "language": "python",
   "name": "python3"
  },
  "language_info": {
   "codemirror_mode": {
    "name": "ipython",
    "version": 3
   },
   "file_extension": ".py",
   "mimetype": "text/x-python",
   "name": "python",
   "nbconvert_exporter": "python",
   "pygments_lexer": "ipython3",
   "version": "3.5.3"
  },
  "widgets": {
   "state": {},
   "version": "1.1.2"
  }
 },
 "nbformat": 4,
 "nbformat_minor": 0
}

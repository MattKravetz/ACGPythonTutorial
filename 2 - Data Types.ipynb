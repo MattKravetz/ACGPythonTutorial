{
 "cells": [
  {
   "cell_type": "markdown",
   "metadata": {},
   "source": [
    "# Data Types\n",
    "<sup>By Matt Kravetz</sup>\n",
    "\n",
    "Welcome to the second interactive Python tutorial!  Here, we will be expanding on our first tutorial by covering one more fundemental concepts of the Python programming langauge - iteration."
   ]
  },
  {
   "cell_type": "markdown",
   "metadata": {},
   "source": [
    "<div class=\"alert alert-info\">\n",
    "    <strong>Note:</strong> \n",
    "    <p>Feel free to interact with the notebooks as you wish - you can add cells, delete cells, and edit existing cells at any point. I highly recommend doing so, \n",
    "        as experimentation is by far the best way to learn.</p>\n",
    "    <p> This notebook will self-destruct after 10 minutes of inactivity, discrarding any changes you have made.\n",
    "        You can always re-launch a fresh notebook by navigating to <a>10.0.0.7:8000</a>.\n",
    "\n",
    "</div>\n",
    "\n",
    "<link rel=\"stylesheet\" href=\"https://maxcdn.bootstrapcdn.com/bootstrap/3.3.7/css/bootstrap.min.css\">\n",
    "<script src=\"https://ajax.googleapis.com/ajax/libs/jquery/3.1.1/jquery.min.js\"></script>\n",
    "<script src=\"https://maxcdn.bootstrapcdn.com/bootstrap/3.3.7/js/bootstrap.min.js\"></script>"
   ]
  },
  {
   "cell_type": "markdown",
   "metadata": {},
   "source": [
    "### What is a type?"
   ]
  },
  {
   "cell_type": "markdown",
   "metadata": {},
   "source": [
    "Before we get back into code, let's discuss a bit of terminology and history.  \n",
    "\n",
    "Python is what is known as a *object-oriented programming language*.  An object is essentially a bundle that holds two things: data, and code that operates on the data. At first, this may sound a bit mysterious -  but you will hopefully see how this is a  natural and intuitive concept.  \n",
    "\n",
    "Like many things in computer science, the concept of *objects* emerged somewhat organically. The origin of objects and types are quite similar to that of the *function*, which we introduced in the first tutorial.  Let's revisit a bit of that history to get grounded."
   ]
  },
  {
   "cell_type": "markdown",
   "metadata": {},
   "source": [
    "#### DRY - Don't Repeat Yourself!"
   ]
  },
  {
   "cell_type": "markdown",
   "metadata": {},
   "source": [
    "Early programmers wrote in a purely *imperative* style, meaning that they wrote code that executed sequentially, one line after another. This worked, but proved to be tedious and prone to error.  \n",
    "\n",
    "Recall our early attempts at coding up the \"what to wear\" app from the introductory tutorial:"
   ]
  },
  {
   "cell_type": "code",
   "execution_count": 3,
   "metadata": {
    "collapsed": false
   },
   "outputs": [
    {
     "name": "stdout",
     "output_type": "stream",
     "text": [
      "Wear a light jacket\n"
     ]
    }
   ],
   "source": [
    "temp_in_celcius = 20\n",
    "temp_in_fahrenheit = ((temp_in_celcius * 9) / 5) + 32 \n",
    "\n",
    "if temp_in_fahrenheit > 72:\n",
    "    print(\"Wear a t-shirt\")\n",
    "elif temp_in_fahrenheit > 60:\n",
    "    print(\"Wear a light jacket\")\n",
    "else:\n",
    "    print(\"Wear a parka\")"
   ]
  },
  {
   "cell_type": "markdown",
   "metadata": {},
   "source": [
    "This code works perfectly well, and does exactly what we hoped it would. But, we soon discovered that it is very limited.  If we wanted to check what to wear for a whole week, we would have to copy-and-paste this code 7 times and remember to update the <code>temp_in_celcius</code> variable for each pasted code block.  What a pain!  \n",
    "\n",
    "Early programmers ran into the same problem, and invented the *subroutine* (which we more commonly refer to as a *function* today) to solve this problem.  Rather than copying-and-pasting our code 7 times, we can simply define a *function* that encapsulates our logic, and call that function as many times as we'd like."
   ]
  },
  {
   "cell_type": "markdown",
   "metadata": {},
   "source": [
    "After a few tweaks, we ended up with the following *function* to encapsulate our \"what ot wear\" logic:"
   ]
  },
  {
   "cell_type": "code",
   "execution_count": 5,
   "metadata": {
    "collapsed": true
   },
   "outputs": [],
   "source": [
    "def what_to_wear_v3(temp_in_celcius, t_shirt_cutoff=72, light_jacket_cutoff=60):\n",
    "    \"\"\" This function tells the user what to pack for a trip to Canada, given a temperature in Celcius.  \n",
    "        The user can optionally provide their own \"cutoff\" termperatures for t-shirts and light jackets.\n",
    "    \"\"\"\n",
    "    \n",
    "    temp_in_fahrenheit = ((temp_in_celcius * 9) / 5) + 32 \n",
    "\n",
    "    if temp_in_fahrenheit > t_shirt_cutoff:\n",
    "        print(\"Wear a t-shirt\")\n",
    "    elif temp_in_fahrenheit > light_jacket_cutoff:\n",
    "        print(\"Wear a light jacket\")\n",
    "    else:\n",
    "        print(\"Wear a parka\")"
   ]
  },
  {
   "cell_type": "markdown",
   "metadata": {},
   "source": [
    "We could then call this code as many times as we want, by simply passing in our desired values for <code>temp_in_celcius</code>:"
   ]
  },
  {
   "cell_type": "code",
   "execution_count": 11,
   "metadata": {
    "collapsed": false
   },
   "outputs": [
    {
     "name": "stdout",
     "output_type": "stream",
     "text": [
      "Wear a light jacket\n"
     ]
    }
   ],
   "source": [
    "what_to_wear_v3(20)"
   ]
  },
  {
   "cell_type": "code",
   "execution_count": 12,
   "metadata": {
    "collapsed": false
   },
   "outputs": [
    {
     "name": "stdout",
     "output_type": "stream",
     "text": [
      "Wear a parka\n"
     ]
    }
   ],
   "source": [
    "what_to_wear_v3(15)"
   ]
  },
  {
   "cell_type": "code",
   "execution_count": 13,
   "metadata": {
    "collapsed": false
   },
   "outputs": [
    {
     "name": "stdout",
     "output_type": "stream",
     "text": [
      "Wear a t-shirt\n"
     ]
    }
   ],
   "source": [
    "what_to_wear_v3(35)"
   ]
  },
  {
   "cell_type": "markdown",
   "metadata": {},
   "source": [
    "As mentioned above *objects* emerged in a similar fashion.  Programmers are the laziest folks you'll ever meet - they *hate* doing more work than they need to! They typically operate under the principle of DRY - don't repeat yourself. As programming started to become more widespread, coders found themselves solving the same problems over and over again for certain types of data.  \n",
    "\n",
    "One common example is converting a *string* of characters from lower-case to upper-case.  It's fairly straightforward to implement a *function* to do this for us.  But, it is tedious to re-define our function every time we need to solve this problem. Early programmers also noticed that such a function is only really useful for *strings* - there's no such thing as lower-case and upper-case numbers, for example.  \n",
    "\n",
    "Once we realize that this \"to upper-case\" opereration is only relavent when we're dealing with *strings*, it becomes clear that there would be many advantages to having this operation explicitly associated with *strings*.  This would save us the trouble of re-defining our \"to upper-case\" *function* every time we wished to use perform this operation.  It also eliminates some potential bugs, such as accidentally using our \"to upper-case\" *function* on a number."
   ]
  },
  {
   "cell_type": "markdown",
   "metadata": {},
   "source": [
    "#### Everything is an Object"
   ]
  },
  {
   "cell_type": "markdown",
   "metadata": {},
   "source": [
    "Objects solve these problems by explicity bundling data with *functions* that operate on that data (quick bit of terminology:  when a *function* is associated with an object, we call it a *method*).\n",
    "\n",
    "In Python, everything is an object.  *Everything*.  Strings, such as our \"Wear a t-shirt\" message, are objects too!  All objects have a *type*.  *Types* tell us what charateristics a given object has.  So \"Wear a t-shirt\" is an object of *type* <code>str</code>.  It has *methods* associated with it, such as those that allow us to convert it to upper-case or lower-case.  \n",
    "\n",
    "Let's take a look at this in practice!"
   ]
  },
  {
   "cell_type": "code",
   "execution_count": 15,
   "metadata": {
    "collapsed": true
   },
   "outputs": [],
   "source": [
    "# Store our message in a variable\n",
    "our_message = \"Wear a t-shirt\""
   ]
  },
  {
   "cell_type": "code",
   "execution_count": 16,
   "metadata": {
    "collapsed": false
   },
   "outputs": [
    {
     "data": {
      "text/plain": [
       "str"
      ]
     },
     "execution_count": 16,
     "metadata": {},
     "output_type": "execute_result"
    }
   ],
   "source": [
    "# Check the type of our message\n",
    "type(our_message)"
   ]
  },
  {
   "cell_type": "code",
   "execution_count": 19,
   "metadata": {
    "collapsed": false
   },
   "outputs": [
    {
     "data": {
      "text/plain": [
       "['__add__',\n",
       " '__class__',\n",
       " '__contains__',\n",
       " '__delattr__',\n",
       " '__dir__',\n",
       " '__doc__',\n",
       " '__eq__',\n",
       " '__format__',\n",
       " '__ge__',\n",
       " '__getattribute__',\n",
       " '__getitem__',\n",
       " '__getnewargs__',\n",
       " '__gt__',\n",
       " '__hash__',\n",
       " '__init__',\n",
       " '__iter__',\n",
       " '__le__',\n",
       " '__len__',\n",
       " '__lt__',\n",
       " '__mod__',\n",
       " '__mul__',\n",
       " '__ne__',\n",
       " '__new__',\n",
       " '__reduce__',\n",
       " '__reduce_ex__',\n",
       " '__repr__',\n",
       " '__rmod__',\n",
       " '__rmul__',\n",
       " '__setattr__',\n",
       " '__sizeof__',\n",
       " '__str__',\n",
       " '__subclasshook__',\n",
       " 'capitalize',\n",
       " 'casefold',\n",
       " 'center',\n",
       " 'count',\n",
       " 'encode',\n",
       " 'endswith',\n",
       " 'expandtabs',\n",
       " 'find',\n",
       " 'format',\n",
       " 'format_map',\n",
       " 'index',\n",
       " 'isalnum',\n",
       " 'isalpha',\n",
       " 'isdecimal',\n",
       " 'isdigit',\n",
       " 'isidentifier',\n",
       " 'islower',\n",
       " 'isnumeric',\n",
       " 'isprintable',\n",
       " 'isspace',\n",
       " 'istitle',\n",
       " 'isupper',\n",
       " 'join',\n",
       " 'ljust',\n",
       " 'lower',\n",
       " 'lstrip',\n",
       " 'maketrans',\n",
       " 'partition',\n",
       " 'replace',\n",
       " 'rfind',\n",
       " 'rindex',\n",
       " 'rjust',\n",
       " 'rpartition',\n",
       " 'rsplit',\n",
       " 'rstrip',\n",
       " 'split',\n",
       " 'splitlines',\n",
       " 'startswith',\n",
       " 'strip',\n",
       " 'swapcase',\n",
       " 'title',\n",
       " 'translate',\n",
       " 'upper',\n",
       " 'zfill']"
      ]
     },
     "execution_count": 19,
     "metadata": {},
     "output_type": "execute_result"
    }
   ],
   "source": [
    "# The dir function lets us view all of the methods that are available for strings.  There are quite a lot of useful tools here! \n",
    "dir(our_message)"
   ]
  },
  {
   "cell_type": "markdown",
   "metadata": {},
   "source": [
    "Lets experiment with some of the methods defined above.  To use a method, simply add a <code>.</code> after our object, then call the method just as we would call a function"
   ]
  },
  {
   "cell_type": "code",
   "execution_count": 20,
   "metadata": {
    "collapsed": false
   },
   "outputs": [
    {
     "data": {
      "text/plain": [
       "'WEAR A T-SHIRT'"
      ]
     },
     "execution_count": 20,
     "metadata": {},
     "output_type": "execute_result"
    }
   ],
   "source": [
    "our_message.upper()"
   ]
  },
  {
   "cell_type": "code",
   "execution_count": 21,
   "metadata": {
    "collapsed": false
   },
   "outputs": [
    {
     "data": {
      "text/plain": [
       "'wear a t-shirt'"
      ]
     },
     "execution_count": 21,
     "metadata": {},
     "output_type": "execute_result"
    }
   ],
   "source": [
    "our_message.lower()"
   ]
  },
  {
   "cell_type": "markdown",
   "metadata": {},
   "source": [
    "The forecast calls for rain!  Let's see if there's a str *method* that would help us customize our message...\n",
    "\n",
    "Recall that we can place a <code>?</code> after a *function* to read it's docstring and learn how to use it.  We can do the same for *methods*!  \n",
    "\n",
    "The <code>replace</code> *method* looks like it might come in handy here.  Let's take a look at it's docstring to learn more."
   ]
  },
  {
   "cell_type": "code",
   "execution_count": 25,
   "metadata": {
    "collapsed": true
   },
   "outputs": [],
   "source": [
    "our_message.replace?"
   ]
  },
  {
   "cell_type": "markdown",
   "metadata": {},
   "source": [
    "The docstring tells us that we can call <code>replace</code> on our string by supplying it with the substring that we want to replace, and the new substring that should be inserted in it's place.  Sounds perfect!"
   ]
  },
  {
   "cell_type": "code",
   "execution_count": 26,
   "metadata": {
    "collapsed": false
   },
   "outputs": [
    {
     "data": {
      "text/plain": [
       "'Wear a rain coat'"
      ]
     },
     "execution_count": 26,
     "metadata": {},
     "output_type": "execute_result"
    }
   ],
   "source": [
    "our_message.replace(\"t-shirt\", \"rain coat\")"
   ]
  },
  {
   "cell_type": "markdown",
   "metadata": {},
   "source": [
    "### Conclusion and Next Steps"
   ]
  },
  {
   "cell_type": "markdown",
   "metadata": {},
   "source": [
    "We've already discussed two of Python's most common data types - strings (<code>str</code>), and booleans (<code>True</code>/<code>False</code>). We've also interacted with a few other types, including integers (which hold whole numbers) and floats (which hold decimal numbers). You can use the space below to experiment with other methods that are available for these types.\n",
    "\n",
    "In the next tutorial, we will expand our mini-app to provide a full packing list for our Roundtable trips.  Along the way, we will learn about Python's different data types and how we can leverage their unique features to make our lives easier. \n",
    "\n",
    "We will also touch upon one of the most valuable tools in the programmer's arsenal: iteration. Iteration is a powerful concept that allows us to express remarkably powerful thoughts with only a few lines of code. This is where we can really start tapping into the power of modern computers!\n",
    "\n",
    "###  Next Tutorial\n",
    "[3. Collections and Iteration](./3%20-%20Collections%20and%20Iteration.ipynb)"
   ]
  }
 ],
 "metadata": {
  "kernelspec": {
   "display_name": "Python 3",
   "language": "python",
   "name": "python3"
  },
  "language_info": {
   "codemirror_mode": {
    "name": "ipython",
    "version": 3
   },
   "file_extension": ".py",
   "mimetype": "text/x-python",
   "name": "python",
   "nbconvert_exporter": "python",
   "pygments_lexer": "ipython3",
   "version": "3.5.3"
  },
  "widgets": {
   "state": {},
   "version": "1.1.2"
  }
 },
 "nbformat": 4,
 "nbformat_minor": 0
}

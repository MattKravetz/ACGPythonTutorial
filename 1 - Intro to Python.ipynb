{
 "cells": [
  {
   "cell_type": "markdown",
   "metadata": {},
   "source": [
    "# Intro to Python\n",
    "<sup>By Matt Kravetz</sup>\n",
    "\n",
    "Welcome to the interactive Python tutorial!  Here, we will be walking through some basics of the Python programming langauge. Before we begin, please press File->Make a Copy to make a copy of this notebook. That way, you will be able to edit this code to experiment with the language features as we discuss them. "
   ]
  },
  {
   "cell_type": "markdown",
   "metadata": {},
   "source": [
    "### Jupyter? Python? What's going on!?\n",
    "\n",
    "Before we dive into the language itself, let's clear up a few cpmmon questions that you be have.\n",
    "\n",
    "Python, itself, is techinically what is called a \"language specification\", and is something like a \"blueprint\" for how the language should be implemented. The actual implementation is called CPython. This is the \"nuts-and-bolts\" of the language - the part that works under the scenes to translate your human-readable Python code into byte code that a machine can understand.  Since this is all happening behind the scenes, it doesn't particularly concern us today."
   ]
  },
  {
   "cell_type": "markdown",
   "metadata": {},
   "source": [
    "Jupyter is an environment for working with Python code.  It lets us write Python directly in the browser, and see the results of our code immediately.  It's not the only way to write Python code, but it is an awfully convient way to interact with the language!  Jupyter operates using blocks called \"code cells\". You can navigate the cells by clicking on them, or by using the arrow keys.  \n",
    "\n",
    "The currently-selected cell will be highlighted in blue.  If you press enter, you will enter \"edit\" mode, which allows you to modify the contents of the selected cell.  You can run the contents of the cell by pressing shift+enter.  Doing so will evaluate the contents of the cell and print any output to the the screen.  Cells can be added by pressing <code>a</code> (to add a cell above the currently active cell) or <code>b</code> (to add a cell below the currently active cell). Pressing <code>dd</code> will delete the current cell - but be careful when doing so, because deleted cells cannot be restored!\n",
    "\n",
    "You can learn more about Jupyter Notebook features by pressing Help and selecting the \"User Interface Tour\" or \"Keyboard Shortcuts\" buttons."
   ]
  },
  {
   "cell_type": "markdown",
   "metadata": {},
   "source": [
    "### Let's get coding!"
   ]
  },
  {
   "cell_type": "markdown",
   "metadata": {},
   "source": [
    "At it's most basic level, the Python interpretter acts as a simple calculator.  If we type an arithmatic expression, it will perform the calculation and return the result. Experiment with this below!"
   ]
  },
  {
   "cell_type": "code",
   "execution_count": 30,
   "metadata": {
    "collapsed": false
   },
   "outputs": [
    {
     "data": {
      "text/plain": [
       "3"
      ]
     },
     "execution_count": 30,
     "metadata": {},
     "output_type": "execute_result"
    }
   ],
   "source": [
    "1 + 2"
   ]
  },
  {
   "cell_type": "code",
   "execution_count": 31,
   "metadata": {
    "collapsed": false
   },
   "outputs": [
    {
     "data": {
      "text/plain": [
       "8"
      ]
     },
     "execution_count": 31,
     "metadata": {},
     "output_type": "execute_result"
    }
   ],
   "source": [
    "3 + 5"
   ]
  },
  {
   "cell_type": "code",
   "execution_count": 32,
   "metadata": {
    "collapsed": false
   },
   "outputs": [
    {
     "data": {
      "text/plain": [
       "0.9"
      ]
     },
     "execution_count": 32,
     "metadata": {},
     "output_type": "execute_result"
    }
   ],
   "source": [
    "9 / 10"
   ]
  },
  {
   "cell_type": "markdown",
   "metadata": {},
   "source": [
    "### Variables and Conditional Statements"
   ]
  },
  {
   "cell_type": "markdown",
   "metadata": {},
   "source": [
    "#### Why we need variables"
   ]
  },
  {
   "cell_type": "markdown",
   "metadata": {},
   "source": [
    "While Python's internal calculator is useful, we often find ourselves wanting to *store* the result of our calculations.  This allows us to use those results later on in our code. Let's explore a situation a where that may be useful - we're going to build a simple app to help us pack for Roundtable trips!"
   ]
  },
  {
   "cell_type": "markdown",
   "metadata": {},
   "source": [
    "#### Conditional Logic with \"if\" and \"else\""
   ]
  },
  {
   "cell_type": "markdown",
   "metadata": {},
   "source": [
    "Let's say, for example, that we're heading off to the Canadian Auto Opertaions Roundtable, and want to know what to pack.  It can be anywhere from t-shirt weather to parka-weather in Toronto, so you better check the weather first. But, weather.com is only giving you the temperature in degrees celcius!  \n",
    "\n",
    "We can convert from celsius to fahrenheit with the following formula: F = ((C * 9) / 5) + 32.  If weather.com says it will be 20 degrees celcius, we can write the following code to figure out what the temperature would be in fahrenheit."
   ]
  },
  {
   "cell_type": "code",
   "execution_count": 4,
   "metadata": {
    "collapsed": false
   },
   "outputs": [
    {
     "data": {
      "text/plain": [
       "68.0"
      ]
     },
     "execution_count": 4,
     "metadata": {},
     "output_type": "execute_result"
    }
   ],
   "source": [
    "((20 * 9) / 5) + 32"
   ]
  },
  {
   "cell_type": "markdown",
   "metadata": {},
   "source": [
    "Great!  BUT, it's going to be an early morning flight, and we're not going to want to have to think about what coat is appropriate to wear when it's so early in the morning.  *Especially* not before having a cup of coffee!\n",
    "\n",
    "Let's write some logic to do the work for us.  Python allows us to create conditional statements with simple \"if/else\" blocks. Try running the code below by highlighting the cell and pressing shift+enter.  This will run the code and tell us whether we should wear a heavy coat or a light coat.  "
   ]
  },
  {
   "cell_type": "code",
   "execution_count": 5,
   "metadata": {
    "collapsed": false
   },
   "outputs": [
    {
     "name": "stdout",
     "output_type": "stream",
     "text": [
      "Wear a light jacket\n"
     ]
    }
   ],
   "source": [
    "if ((20 * 9) / 5) + 32 > 60:\n",
    "    print(\"Wear a light jacket\")\n",
    "else:\n",
    "    print(\"Wear a parka\")"
   ]
  },
  {
   "cell_type": "markdown",
   "metadata": {},
   "source": [
    "Even better!  Now we know what to wear. Notice how the <code>if</code> statement is followed by a <code>:</code>. This lets the Python interpretter know that the following code block should be executed *if and only if* our condition is <code>True</code>. Here, the interpretter will print \"Wear a light jacket\" becaues 68 is, indeed, greater than 60.  If this were <code>False</code>, the code block under the <code>else</code> statement would run instead, and \"Wear a parka\" would be printed.\n",
    "\n",
    "Also notice how the <code>print</code> statements are indented.  In Python, indentation indicates a distinct code block (here, the code that will be run if our condition is True).  When we want to exit this code block, we simply unindent.     "
   ]
  },
  {
   "cell_type": "markdown",
   "metadata": {},
   "source": [
    "#### Expanding conditional logic with \"elif\""
   ]
  },
  {
   "cell_type": "markdown",
   "metadata": {},
   "source": [
    "So, our next Canadian Auto Roundtable is coming up and we want to re-use that bit of code since it was so useful last time.  When you go to look up the temp, Weather.com is saying that it will be 32 degrees celcius.  Let's run our bit of code and see what to wear. Notice how we replace the \"20\" in our previous with the new temp, 32."
   ]
  },
  {
   "cell_type": "code",
   "execution_count": 6,
   "metadata": {
    "collapsed": false
   },
   "outputs": [
    {
     "name": "stdout",
     "output_type": "stream",
     "text": [
      "Wear a light jacket\n"
     ]
    }
   ],
   "source": [
    "if ((32 * 9) / 5) + 32 > 60:\n",
    "    print(\"Wear a light jacket\")\n",
    "else:\n",
    "    print(\"Wear a parka\")"
   ]
  },
  {
   "cell_type": "markdown",
   "metadata": {},
   "source": [
    "But wait a second... let's check the actual temperature."
   ]
  },
  {
   "cell_type": "code",
   "execution_count": 7,
   "metadata": {
    "collapsed": false
   },
   "outputs": [
    {
     "data": {
      "text/plain": [
       "89.6"
      ]
     },
     "execution_count": 7,
     "metadata": {},
     "output_type": "execute_result"
    }
   ],
   "source": [
    "((32 * 9) / 5) + 32"
   ]
  },
  {
   "cell_type": "markdown",
   "metadata": {},
   "source": [
    "Almost 90 degrees!  Clearly, we can leave the jackets at home.  Let's expand our code to cover this scenario."
   ]
  },
  {
   "cell_type": "code",
   "execution_count": 8,
   "metadata": {
    "collapsed": false
   },
   "outputs": [
    {
     "name": "stdout",
     "output_type": "stream",
     "text": [
      "Wear a t-shirt\n"
     ]
    }
   ],
   "source": [
    "if ((32 * 9) / 5) + 32 > 72:\n",
    "    print(\"Wear a t-shirt\")\n",
    "elif ((32 * 9) / 5) + 32 > 60:\n",
    "    print(\"Wear a light jacket\")\n",
    "else:\n",
    "    print(\"Wear a parka\")"
   ]
  },
  {
   "cell_type": "markdown",
   "metadata": {},
   "source": [
    "Great! Now we know what to wear.  Notice how we introduced a new keyword, <code>elif</code>.  This is short for \"else if\", and is very useful when evaluating a series of conditions.  The elif block will run *if and only if* the condition in the previous <code>if</code> statement was <code>False</code>, and the condition in the <code>elif</code> statement is <code>True</code>.  Like in the previous example, the <code>else</code> block will run *if and only if* the preceding conditions all evaluate to <code>False</code>.\n",
    "\n",
    "You can read the above code block as \"If it's warm enough, wear a t-shift.  Otherwise, if it's above 60 degrees, wear a light jacket.  If neither of those things are true, then wear a parka\".  "
   ]
  },
  {
   "cell_type": "markdown",
   "metadata": {},
   "source": [
    "#### Variables"
   ]
  },
  {
   "cell_type": "markdown",
   "metadata": {},
   "source": [
    "This little bit of logic covers all of our packing needs. But, it's a bit of pain to reuse.  Next time we're packing for this Roundtable, we'll need to change the temperature in celcius *twice*.  This feels redundant.  And what if we make a mistake, and only update the temperate in one condition but not the other?  All of our logic could fall apart!\n",
    "\n",
    "Instead, we can store the result of our calculation in a *variable*.  A variable, simply, is a name that we assign to a value.  In Python, variables can hold just about anything - they can hold numbers, text, and even functions and classes (but we'll get to those later)!  Let's expand our code to take advantage of these capabilities."
   ]
  },
  {
   "cell_type": "code",
   "execution_count": 9,
   "metadata": {
    "collapsed": false
   },
   "outputs": [
    {
     "name": "stdout",
     "output_type": "stream",
     "text": [
      "Wear a light jacket\n"
     ]
    }
   ],
   "source": [
    "temp_in_celcius = 20\n",
    "temp_in_fahrenheit = ((temp_in_celcius * 9) / 5) + 32 \n",
    "\n",
    "if temp_in_fahrenheit > 72:\n",
    "    print(\"Wear a t-shirt\")\n",
    "elif temp_in_fahrenheit > 60:\n",
    "    print(\"Wear a light jacket\")\n",
    "else:\n",
    "    print(\"Wear a parka\")"
   ]
  },
  {
   "cell_type": "markdown",
   "metadata": {},
   "source": [
    "This is much better!  Now, we simply need to update the value of <code>temp_in_celcius</code>, and the rest of our code will take care of itself.  Go ahead and experiment with the code block above - change the value of the <code>temp_in_celcius</code> and see how our output changes in response.  "
   ]
  },
  {
   "cell_type": "markdown",
   "metadata": {},
   "source": [
    "### Functions"
   ]
  },
  {
   "cell_type": "markdown",
   "metadata": {},
   "source": [
    "Now, we've been to a few Roundtables, and everyone in the office can't believe how well dressed you are! They want to know your secret.  You tried sharing the code, but it's a bit of a pain to explain.  People are confused about which numbers to modify, and which numbers to leave in place.  If they change one of the numbers in our C-to-F conversion, for example, the whole system would go crumbling down!\n",
    "\n",
    "Functions help us get rid of this problem, and many others.  Using functions, we can allow our users to interact with our code exactly how we want them to.  Take a look at the code below."
   ]
  },
  {
   "cell_type": "code",
   "execution_count": 10,
   "metadata": {
    "collapsed": true
   },
   "outputs": [],
   "source": [
    "def what_to_wear_v1(temp_in_celcius):\n",
    "    \"\"\" This function tells the user what to pack for a trip to Canada, given a temperature in Celcius\"\"\"\n",
    "    \n",
    "    temp_in_fahrenheit = ((temp_in_celcius * 9) / 5) + 32 \n",
    "\n",
    "    if temp_in_fahrenheit > 72:\n",
    "        print(\"Wear a t-shirt\")\n",
    "    elif temp_in_fahrenheit > 60:\n",
    "        print(\"Wear a light jacket\")\n",
    "    else:\n",
    "        print(\"Wear a parka\")"
   ]
  },
  {
   "cell_type": "markdown",
   "metadata": {},
   "source": [
    "Try running the cell above (remember, we can do that by pressing shift+enter). It doesn't do anything!  What we're doing here is slightly different from what we were doing in previous examples. \n",
    "\n",
    "Instead of sending a block of code the interpretter and asking it to give us a result immediately, we are *defining* a function.  The interpretter \"remembers\" this code, allowing us to re-use it later.  \n",
    "\n",
    "Let's break down exactly what's going on here.  The <code>def</code> statement tells the interpretter that we are about *define* a function. Next, we give the function a name (<code>what_to_wear_v1</code>), which we will use to refer to the function later on in our code. Next, we give the function an *argument*.  *Arguments* are simply variables that are *passed* into the function by the programmer who is using it. Notice that we are no longer defining <code>temp_in_celcius = 20</code> at the top of this code block, as we were in the previous example.  In our function, <code>temp_in_celcius</code> will take on whatever value we pass into our <code>what_to_wear_v1</code> function.\n",
    "\n",
    "In the second line, we provide a *docstring* (short for documentation string). Docstrings provide users with information about our code.  They typically explain what arguments our function expects and what, if anything, it will return (don't worry about what *returning* means - we will cover that in a moment). This is optional, but is considered a best practice as it allows others to understand our intent and work with our code more easily. "
   ]
  },
  {
   "cell_type": "code",
   "execution_count": 15,
   "metadata": {
    "collapsed": true
   },
   "outputs": [],
   "source": [
    "# This cell will bring up the docstring for our what_to_wear function.  Try it running it to see! \n",
    "# This syntax (a function, followed by a ?) works with most Python objects, and can be incredibly useful when \n",
    "# learning how to use a new system\n",
    "\n",
    "what_to_wear_v1?"
   ]
  },
  {
   "cell_type": "markdown",
   "metadata": {},
   "source": [
    "The code below shows how our function can be used. We *call* a function by adding the parenethesis after it, with any *arguments* included between the parenthesis. Remember, our one *argument* for this function is the temperature in celcius."
   ]
  },
  {
   "cell_type": "code",
   "execution_count": 12,
   "metadata": {
    "collapsed": false
   },
   "outputs": [
    {
     "name": "stdout",
     "output_type": "stream",
     "text": [
      "Wear a light jacket\n"
     ]
    }
   ],
   "source": [
    "what_to_wear_v1(20)"
   ]
  },
  {
   "cell_type": "code",
   "execution_count": 13,
   "metadata": {
    "collapsed": false
   },
   "outputs": [
    {
     "name": "stdout",
     "output_type": "stream",
     "text": [
      "Wear a parka\n"
     ]
    }
   ],
   "source": [
    "what_to_wear_v1(15)"
   ]
  },
  {
   "cell_type": "code",
   "execution_count": 14,
   "metadata": {
    "collapsed": false
   },
   "outputs": [
    {
     "name": "stdout",
     "output_type": "stream",
     "text": [
      "Wear a t-shirt\n"
     ]
    }
   ],
   "source": [
    "what_to_wear_v1(35)"
   ]
  },
  {
   "cell_type": "markdown",
   "metadata": {},
   "source": [
    "#### Keyword Arguments"
   ]
  },
  {
   "cell_type": "markdown",
   "metadata": {},
   "source": [
    "Great!\n",
    "\n",
    "People are loving our function, and our Canadian clients are starting to respect ACG's impeccable fashion sense! BUT... some of our coworkers are starting to complain.  As it turns out, not everyone is comfortable wearing a light jacket when the temperature is in the upper 60's. And some want to wear a parka all the way up to 62 degrees! Wouldn't it be nice if they could pick their own temperature cut-offs?\n",
    "\n",
    "We could do so by adding a few more arguments, like in the example below."
   ]
  },
  {
   "cell_type": "code",
   "execution_count": 21,
   "metadata": {
    "collapsed": true
   },
   "outputs": [],
   "source": [
    "def what_to_wear_v2(temp_in_celcius, t_shirt_cutoff, light_jacket_cutoff):\n",
    "    \"\"\" This function tells the user what to pack for a trip to Canada, given a temperature in Celcius and their \n",
    "        preferred \"cutoff\" termperatures for t-shirts and light jackets.\n",
    "    \"\"\"\n",
    "    \n",
    "    temp_in_fahrenheit = ((temp_in_celcius * 9) / 5) + 32 \n",
    "\n",
    "    if temp_in_fahrenheit > t_shirt_cutoff:\n",
    "        print(\"Wear a t-shirt\")\n",
    "    elif temp_in_fahrenheit > light_jacket_cutoff:\n",
    "        print(\"Wear a light jacket\")\n",
    "    else:\n",
    "        print(\"Wear a parka\")"
   ]
  },
  {
   "cell_type": "markdown",
   "metadata": {},
   "source": [
    "This works well.  We can still check our preferences by calling the function according to the example below..."
   ]
  },
  {
   "cell_type": "code",
   "execution_count": 17,
   "metadata": {
    "collapsed": false
   },
   "outputs": [
    {
     "name": "stdout",
     "output_type": "stream",
     "text": [
      "Wear a light jacket\n"
     ]
    }
   ],
   "source": [
    "what_to_wear_v2(20, 72, 60)"
   ]
  },
  {
   "cell_type": "markdown",
   "metadata": {},
   "source": [
    "...and our cold-blooded coworkers can call it to get their own personalized advice like so:"
   ]
  },
  {
   "cell_type": "code",
   "execution_count": 18,
   "metadata": {
    "collapsed": false
   },
   "outputs": [
    {
     "name": "stdout",
     "output_type": "stream",
     "text": [
      "Wear a t-shirt\n"
     ]
    }
   ],
   "source": [
    "what_to_wear_v2(20, 65, 55)"
   ]
  },
  {
   "cell_type": "markdown",
   "metadata": {},
   "source": [
    "Now, this works perfectly.  But as it happens, your preference to wear a t-shirt when it's above 72 and a light jacket when it's above 60 are pretty common.  Almost everyone in the office has the same preferences, and they're pretty annoyed that they have to type in two extra arguments to get the same result.  We could revert to the previous version, but this would leave us with the same complainers we started with.  \n",
    "\n",
    "We can get the best of both worlds by converting <code>t_shirt_cutoff</code> and <code>light_jacket_cutoff</code> to *keyword arguments*.  *Keyword arguments* are almost exactly the same as the arguments we have dealt with earlier (which are formally called *positional arguments*), except that we can provide them with *default values*. This essentially makes them \"optional arguments\" - if the user wants to provide their own values for <code>t_shirt_cutoff</code> and <code>light_jacket_cutoff</code>, our function will proceed with those values. If no values are provided, our function will fall back on the defaults that we set in the funciton signature.\n",
    "\n",
    "Check it out below."
   ]
  },
  {
   "cell_type": "code",
   "execution_count": 20,
   "metadata": {
    "collapsed": true
   },
   "outputs": [],
   "source": [
    "def what_to_wear_v3(temp_in_celcius, t_shirt_cutoff=72, light_jacket_cutoff=60):\n",
    "    \"\"\" This function tells the user what to pack for a trip to Canada, given a temperature in Celcius.  \n",
    "        The user can optionally provide their own \"cutoff\" termperatures for t-shirts and light jackets.\n",
    "    \"\"\"\n",
    "    \n",
    "    temp_in_fahrenheit = ((temp_in_celcius * 9) / 5) + 32 \n",
    "\n",
    "    if temp_in_fahrenheit > t_shirt_cutoff:\n",
    "        print(\"Wear a t-shirt\")\n",
    "    elif temp_in_fahrenheit > light_jacket_cutoff:\n",
    "        print(\"Wear a light jacket\")\n",
    "    else:\n",
    "        print(\"Wear a parka\")"
   ]
  },
  {
   "cell_type": "markdown",
   "metadata": {},
   "source": [
    "Notice that this function looks almost identical to our <code>what_to_wear_v2</code> function.  The only difference is that we provided values for <code>t_shirt_cutoff</code> and <code>light_jacket_cutoff</code> in the function signature."
   ]
  },
  {
   "cell_type": "markdown",
   "metadata": {},
   "source": [
    "These functions can be called a few different ways. \n",
    "\n",
    "We can call the function with just the <code>temp_in_celcius</code> argument, and it will operate exactly like our original v1 function.  The values we pass in will be bound to the <code>temp_in_celcius</code> argument. The <code>t_shirt_cutoff</code> and <code>light_jacket_cutoff</code> variables referenced within the function will take on the default values that we have defined in the function signature - 72 degrees and 60 degrees.  Check it out in action below:"
   ]
  },
  {
   "cell_type": "code",
   "execution_count": 22,
   "metadata": {
    "collapsed": false
   },
   "outputs": [
    {
     "name": "stdout",
     "output_type": "stream",
     "text": [
      "Wear a light jacket\n"
     ]
    }
   ],
   "source": [
    "what_to_wear_v3(20)"
   ]
  },
  {
   "cell_type": "code",
   "execution_count": 23,
   "metadata": {
    "collapsed": false
   },
   "outputs": [
    {
     "name": "stdout",
     "output_type": "stream",
     "text": [
      "Wear a parka\n"
     ]
    }
   ],
   "source": [
    "what_to_wear_v3(15)"
   ]
  },
  {
   "cell_type": "markdown",
   "metadata": {},
   "source": [
    "We can also call it with custom cutoffs.  Notice how we specify the name of the arguments as they are passed in."
   ]
  },
  {
   "cell_type": "code",
   "execution_count": 24,
   "metadata": {
    "collapsed": false
   },
   "outputs": [
    {
     "name": "stdout",
     "output_type": "stream",
     "text": [
      "Wear a light jacket\n"
     ]
    }
   ],
   "source": [
    "what_to_wear_v3(20, t_shirt_cutoff=72, light_jacket_cutoff=60)"
   ]
  },
  {
   "cell_type": "code",
   "execution_count": 25,
   "metadata": {
    "collapsed": false
   },
   "outputs": [
    {
     "name": "stdout",
     "output_type": "stream",
     "text": [
      "Wear a t-shirt\n"
     ]
    }
   ],
   "source": [
    "what_to_wear_v3(20, t_shirt_cutoff=65, light_jacket_cutoff=55)"
   ]
  },
  {
   "cell_type": "markdown",
   "metadata": {},
   "source": [
    "We can call by just passing in the values of the keyword arguments.  If we do this, the Python interpretter will pass in our arguments in the order that they were originally defined. "
   ]
  },
  {
   "cell_type": "code",
   "execution_count": 26,
   "metadata": {
    "collapsed": false
   },
   "outputs": [
    {
     "name": "stdout",
     "output_type": "stream",
     "text": [
      "Wear a t-shirt\n"
     ]
    }
   ],
   "source": [
    "what_to_wear_v3(20, 65, 55)"
   ]
  },
  {
   "cell_type": "markdown",
   "metadata": {},
   "source": [
    "This works perfectly fine, but it can be confusing for others to read.  Let's say we revist this code in a few months - it will be confusing if we forget the order in which our function expects to recieve the <code>t_shirt_cutoff</code> and <code>light_jacket_cutoff</code> arguments. Additionally, another programmer may come along and redefine our function suhc that  the order of the <code>t_shirt_cutoff</code> and <code>light_jacket_cutoff</code> keyword arguments is reversed.  If this happens, our results will be non-sensical! For these reasons, it is generally considered a best practice to include the name of the *keyword arguments*."
   ]
  },
  {
   "cell_type": "markdown",
   "metadata": {},
   "source": [
    "You can also include the name of the *positional arguments*, as seen below. This is more explicit, and and many cases may be considered preferable."
   ]
  },
  {
   "cell_type": "code",
   "execution_count": 33,
   "metadata": {
    "collapsed": false
   },
   "outputs": [
    {
     "name": "stdout",
     "output_type": "stream",
     "text": [
      "Wear a t-shirt\n"
     ]
    }
   ],
   "source": [
    "what_to_wear_v3(temp_in_celcius=20, t_shirt_cutoff=65, light_jacket_cutoff=55)"
   ]
  },
  {
   "cell_type": "markdown",
   "metadata": {},
   "source": [
    "### Conclusion and Next Steps\n",
    "\n",
    "Congratulations on making it through the first tutorial!  In this guide, we covered a few of Python's most fundemental features, including:\n",
    "\n",
    "* Using Jupyter to write and execute Python code\n",
    "* Using Python as a basic calculator\n",
    "* Storing the results of our calculations in variables\n",
    "* Creating conditional statments with <code>if</code>, <code>elif</code>, and <code>else</code>\n",
    "* Defining and calling functions, and why this is useful\n",
    "* The difference between *positional arguments* (required arguments) and *keyword arguments* (optional arguments), and how these help us define more user-friendly functions\n",
    "\n",
    "In the next tutorial, we will take a brief detour from our mini-app to introduce some of Python's fundemental data types, including strings, booleans, floats, and integers.\n",
    "\n",
    "To view the next tutorial, click the link below:\n",
    "\n",
    "http://10.0.0.7:8819/notebooks/acgbm/notebooks/Intro%20to%20Python/2%20-%20Data%20Types.ipynb\n"
   ]
  },
  {
   "cell_type": "code",
   "execution_count": null,
   "metadata": {
    "collapsed": true
   },
   "outputs": [],
   "source": []
  }
 ],
 "metadata": {
  "kernelspec": {
   "display_name": "Python 3",
   "language": "python",
   "name": "python3"
  },
  "language_info": {
   "codemirror_mode": {
    "name": "ipython",
    "version": 3
   },
   "file_extension": ".py",
   "mimetype": "text/x-python",
   "name": "python",
   "nbconvert_exporter": "python",
   "pygments_lexer": "ipython3",
   "version": "3.5.3"
  },
  "widgets": {
   "state": {},
   "version": "1.1.2"
  }
 },
 "nbformat": 4,
 "nbformat_minor": 0
}

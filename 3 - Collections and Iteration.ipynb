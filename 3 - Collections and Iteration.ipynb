{
 "cells": [
  {
   "cell_type": "markdown",
   "metadata": {},
   "source": [
    "# Collections and Iteration\n",
    "<sup>By Matt Kravetz</sup>\n",
    "\n",
    "Welcome to the third interactive Python tutorial!  Here, we will be expanding on our previous discussion of data types to introduce the concept of *collections*, and to delve into one of the most powerful concepts in computing, iteration."
   ]
  },
  {
   "cell_type": "markdown",
   "metadata": {},
   "source": [
    "<div class=\"alert alert-info\">\n",
    "    <strong>Note:</strong> \n",
    "    <p>Feel free to interact with the notebooks as you wish - you can add cells, delete cells, and edit existing cells at any point. I highly recommend doing so, \n",
    "        as experimentation is by far the best way to learn.</p>\n",
    "    <p> This notebook will self-destruct after 10 minutes of inactivity, discrarding any changes you have made.\n",
    "        You can always re-launch a fresh notebook by navigating to <a>10.0.0.7:8000</a>.\n",
    "\n",
    "</div>\n",
    "\n",
    "<link rel=\"stylesheet\" href=\"https://maxcdn.bootstrapcdn.com/bootstrap/3.3.7/css/bootstrap.min.css\">\n",
    "<script src=\"https://ajax.googleapis.com/ajax/libs/jquery/3.1.1/jquery.min.js\"></script>\n",
    "<script src=\"https://maxcdn.bootstrapcdn.com/bootstrap/3.3.7/js/bootstrap.min.js\"></script>"
   ]
  },
  {
   "cell_type": "markdown",
   "metadata": {},
   "source": [
    "### Lists"
   ]
  },
  {
   "cell_type": "markdown",
   "metadata": {},
   "source": [
    "In the previous tutorial, we discussed several of Python's fundemental data types - strings, floats, integers, and booleans. Using these tools, we can get pretty far.  However, these tools alone are not quite enough to accomplish many things we may want to do. \n",
    "\n",
    "Imagine, for example, that we decided to burn some vacation days to explore Toronto around our Roundtable trip.  Since our what_to_wear mini-app has proven so useful for a single day, perhaps we should use it to plan for the whole trip!  \n",
    "\n",
    "We check Weather.com and get the following 5 day forcast for Toronto, in Celcius: 15, 17, 20, 25, 15.  Now, let's use our mini-app to figure out what to pack."
   ]
  },
  {
   "cell_type": "code",
   "execution_count": 1,
   "metadata": {
    "collapsed": true
   },
   "outputs": [],
   "source": [
    "# First, we must re-define our what_to_wear_v3 function\n",
    "\n",
    "def what_to_wear_v3(temp_in_celcius, t_shirt_cutoff=72, light_jacket_cutoff=60):\n",
    "    \"\"\" This function tells the user what to pack for a trip to Canada, given a temperature in Celcius.  \n",
    "        The user can optionally provide their own \"cutoff\" termperatures for t-shirts and light jackets.\n",
    "    \"\"\"\n",
    "    \n",
    "    temp_in_fahrenheit = ((temp_in_celcius * 9) / 5) + 32 \n",
    "\n",
    "    if temp_in_fahrenheit > t_shirt_cutoff:\n",
    "        print(\"Wear a t-shirt\")\n",
    "    elif temp_in_fahrenheit > light_jacket_cutoff:\n",
    "        print(\"Wear a light jacket\")\n",
    "    else:\n",
    "        print(\"Wear a parka\")"
   ]
  },
  {
   "cell_type": "code",
   "execution_count": 2,
   "metadata": {
    "collapsed": false
   },
   "outputs": [
    {
     "name": "stdout",
     "output_type": "stream",
     "text": [
      "Wear a parka\n"
     ]
    }
   ],
   "source": [
    "# First day\n",
    "what_to_wear_v3(15)"
   ]
  },
  {
   "cell_type": "code",
   "execution_count": 3,
   "metadata": {
    "collapsed": false
   },
   "outputs": [
    {
     "name": "stdout",
     "output_type": "stream",
     "text": [
      "Wear a light jacket\n"
     ]
    }
   ],
   "source": [
    "# Second day\n",
    "what_to_wear_v3(17)"
   ]
  },
  {
   "cell_type": "code",
   "execution_count": 4,
   "metadata": {
    "collapsed": false
   },
   "outputs": [
    {
     "name": "stdout",
     "output_type": "stream",
     "text": [
      "Wear a light jacket\n"
     ]
    }
   ],
   "source": [
    "# Third day\n",
    "what_to_wear_v3(20)"
   ]
  },
  {
   "cell_type": "code",
   "execution_count": 5,
   "metadata": {
    "collapsed": false
   },
   "outputs": [
    {
     "name": "stdout",
     "output_type": "stream",
     "text": [
      "Wear a t-shirt\n"
     ]
    }
   ],
   "source": [
    "# Fourth day\n",
    "what_to_wear_v3(25)"
   ]
  },
  {
   "cell_type": "code",
   "execution_count": 6,
   "metadata": {
    "collapsed": false
   },
   "outputs": [
    {
     "name": "stdout",
     "output_type": "stream",
     "text": [
      "Wear a parka\n"
     ]
    }
   ],
   "source": [
    "# Fifth day\n",
    "what_to_wear_v3(15)"
   ]
  },
  {
   "cell_type": "markdown",
   "metadata": {},
   "source": [
    "Ok, so now we know we need to pack a t-shirt, a light jacket, and a parka.  What a mess! Looks like global warming has reached Toronto after all...\n",
    "\n",
    "If you've been following along in the previous tutorials, the above code may bother you. Remember our DRY (don't repeat yourself) principle?  Well, we just made 5 seperate calls to <code>what_to_wearv3</code>!  That was frustrating to write! And if we want to plan another trip, we'll have to type it out again with new temperatures!  Being the lazy programmers that we are, we've got to find a way around all of this extra work!\n",
    "\n",
    "Enter, the *list*.  *Lists* are another fundemental data structure in Python, like strings, integers, and floats.  You can use lists to store an series of elements, in order.  A Python list can hold any valid Python object, and, since *everything* in Python is an object, that means that lists can hold just about everything!"
   ]
  },
  {
   "cell_type": "markdown",
   "metadata": {},
   "source": [
    "Let's start simplifing this problem by placing all of our elements in a list. This is done as follows:"
   ]
  },
  {
   "cell_type": "code",
   "execution_count": 7,
   "metadata": {
    "collapsed": true
   },
   "outputs": [],
   "source": [
    "five_day_forecast = [15, 17, 20, 25, 15]"
   ]
  },
  {
   "cell_type": "markdown",
   "metadata": {},
   "source": [
    "As you can see, the syntax is simple - just surround your elements with hard braces (<code>[]</code>), and seperate each element with a comma.\n",
    "\n",
    "In most cases, all elements of the list will be of the same type. But, this is not a requirement! In fact, Python allows us to create lists of many different types.  See the example below, where we build a *list*, called <code>silly_list</code>, containing an integer, a NoneType, a boolean, a string, and a function. Yes, we can even put functions in lists!  "
   ]
  },
  {
   "cell_type": "code",
   "execution_count": 8,
   "metadata": {
    "collapsed": false
   },
   "outputs": [],
   "source": [
    "silly_list = [1, None, False, \"Hi!\", what_to_wear_v3]"
   ]
  },
  {
   "cell_type": "markdown",
   "metadata": {},
   "source": [
    "### List Indexing"
   ]
  },
  {
   "cell_type": "markdown",
   "metadata": {},
   "source": [
    "But I digress - let's return to the the problem at hand.  We now have a list of weather forecasts for the 5 days that we plan to  spend in Toronto.  \n",
    "\n",
    "If we want to check the weather for an individual day, we can do that accessing the elements of the list by their *index*.  The *index* of an element is essentially it's position in the list.  By convention, Python indexes start at 0. Elements are accessed by placing hard braces containing the list index immediately after the list. You can see this in action below:   "
   ]
  },
  {
   "cell_type": "code",
   "execution_count": 9,
   "metadata": {
    "collapsed": false
   },
   "outputs": [
    {
     "data": {
      "text/plain": [
       "15"
      ]
     },
     "execution_count": 9,
     "metadata": {},
     "output_type": "execute_result"
    }
   ],
   "source": [
    "# The element at the index 0 corresponds to the weather on the 1st day\n",
    "five_day_forecast[0]"
   ]
  },
  {
   "cell_type": "code",
   "execution_count": 10,
   "metadata": {
    "collapsed": false
   },
   "outputs": [
    {
     "data": {
      "text/plain": [
       "17"
      ]
     },
     "execution_count": 10,
     "metadata": {},
     "output_type": "execute_result"
    }
   ],
   "source": [
    "# The element at the index 1 corresponds to the weather on the 2nd day\n",
    "five_day_forecast[1]"
   ]
  },
  {
   "cell_type": "code",
   "execution_count": 11,
   "metadata": {
    "collapsed": false
   },
   "outputs": [
    {
     "data": {
      "text/plain": [
       "15"
      ]
     },
     "execution_count": 11,
     "metadata": {},
     "output_type": "execute_result"
    }
   ],
   "source": [
    "# The element at the index 4 corresponds to the weather on the 5th day\n",
    "five_day_forecast[4]"
   ]
  },
  {
   "cell_type": "code",
   "execution_count": 12,
   "metadata": {
    "collapsed": false
   },
   "outputs": [
    {
     "ename": "IndexError",
     "evalue": "list index out of range",
     "output_type": "error",
     "traceback": [
      "\u001b[1;31m\u001b[0m",
      "\u001b[1;31mIndexError\u001b[0mTraceback (most recent call last)",
      "\u001b[1;32m<ipython-input-12-237e36fd64fc>\u001b[0m in \u001b[0;36m<module>\u001b[1;34m()\u001b[0m\n\u001b[0;32m      1\u001b[0m \u001b[1;31m# If we try to access the element at the index 5, we get an IndexError.\u001b[0m\u001b[1;33m\u001b[0m\u001b[1;33m\u001b[0m\u001b[0m\n\u001b[0;32m      2\u001b[0m \u001b[1;31m# This is because index 5 corresponds to the 6th element of a list, and our list only has 5 elements!\u001b[0m\u001b[1;33m\u001b[0m\u001b[1;33m\u001b[0m\u001b[0m\n\u001b[1;32m----> 3\u001b[1;33m \u001b[0mfive_day_forecast\u001b[0m\u001b[1;33m[\u001b[0m\u001b[1;36m5\u001b[0m\u001b[1;33m]\u001b[0m\u001b[1;33m\u001b[0m\u001b[0m\n\u001b[0m",
      "\u001b[1;31mIndexError\u001b[0m: list index out of range"
     ]
    }
   ],
   "source": [
    "# If we try to access the element at the index 5, we get an IndexError.\n",
    "# This is because index 5 corresponds to the 6th element of a list, and our list only has 5 elements!\n",
    "five_day_forecast[5]"
   ]
  },
  {
   "cell_type": "code",
   "execution_count": 13,
   "metadata": {
    "collapsed": false
   },
   "outputs": [
    {
     "data": {
      "text/plain": [
       "15"
      ]
     },
     "execution_count": 13,
     "metadata": {},
     "output_type": "execute_result"
    }
   ],
   "source": [
    "# You can also use negative numbers as indexes! \n",
    "# This allows you to grab elements from the \"back\" of the list, rather than the front.\n",
    "# The element at index -1, for example, will return the last element of the list - the weather on day 5.\n",
    "\n",
    "five_day_forecast[-1]"
   ]
  },
  {
   "cell_type": "code",
   "execution_count": 14,
   "metadata": {
    "collapsed": false
   },
   "outputs": [
    {
     "data": {
      "text/plain": [
       "25"
      ]
     },
     "execution_count": 14,
     "metadata": {},
     "output_type": "execute_result"
    }
   ],
   "source": [
    "# The element at index -2 corresponds to the second to last element of the lsit - the weather on day 4.\n",
    "\n",
    "five_day_forecast[-2]"
   ]
  },
  {
   "cell_type": "markdown",
   "metadata": {},
   "source": [
    "### List Slicing"
   ]
  },
  {
   "cell_type": "markdown",
   "metadata": {},
   "source": [
    "We can also access a *slice* of list elements.  When we slice a list, we obtain a new list that contains the elements that we specify. Slicing can be done by using a <code>:</code> within the hard braces.  The number to the left of the <code>:</code> corresponds to the first element of the sliced list.  The element to the right of the <code>:</code> corresponds to the stopping point of the slice, exclusive.  That is, if we slice using the code <code>five_day_forecast[1:4]</code>, we will get the weather for indexes 1, 2, and 3, but NOT index 4.  If you leave off the element to the left of the :, the slice will start from the 0th element of the list.  If you leave off the element o the right of the :, the slice will go up to (and include) the last element of the list. \n",
    "\n",
    "That's a lot to take in, so lets check out some examples!"
   ]
  },
  {
   "cell_type": "code",
   "execution_count": 15,
   "metadata": {
    "collapsed": false
   },
   "outputs": [
    {
     "data": {
      "text/plain": [
       "[17, 20, 25]"
      ]
     },
     "execution_count": 15,
     "metadata": {},
     "output_type": "execute_result"
    }
   ],
   "source": [
    "# This gives us the weather forecast for the 1st, 2nd, and 3rd indexes. \n",
    "# It goes up to, but DOES NOT INCLUDE the 4th index.\n",
    "\n",
    "five_day_forecast[1:4]"
   ]
  },
  {
   "cell_type": "code",
   "execution_count": 16,
   "metadata": {
    "collapsed": false
   },
   "outputs": [
    {
     "data": {
      "text/plain": [
       "[15, 17, 20]"
      ]
     },
     "execution_count": 16,
     "metadata": {},
     "output_type": "execute_result"
    }
   ],
   "source": [
    "# If we leave off the element to the left of the colon, we get a slice that starts at the 0th index and goes \n",
    "# up to, but DOES NOT INCLUDE the 3rd index.\n",
    "\n",
    "five_day_forecast[:3]"
   ]
  },
  {
   "cell_type": "code",
   "execution_count": 17,
   "metadata": {
    "collapsed": false
   },
   "outputs": [
    {
     "data": {
      "text/plain": [
       "[20, 25, 15]"
      ]
     },
     "execution_count": 17,
     "metadata": {},
     "output_type": "execute_result"
    }
   ],
   "source": [
    "# If we leave off the element to the right of the colon, we get a slice that starts at the 2nd index \n",
    "# and goes to the end of the list.  Notice how the 2nd index is included here!\n",
    "\n",
    "five_day_forecast[2:]"
   ]
  },
  {
   "cell_type": "code",
   "execution_count": 18,
   "metadata": {
    "collapsed": false
   },
   "outputs": [
    {
     "data": {
      "text/plain": [
       "[15, 20, 15]"
      ]
     },
     "execution_count": 18,
     "metadata": {},
     "output_type": "execute_result"
    }
   ],
   "source": [
    "# We can use a double colon (::) to indicate the \"step size\" of the slice. For example, the below will show the weather\n",
    "# forecast for the 0th, 2nd, and 4th indexes\n",
    "\n",
    "five_day_forecast[::2]"
   ]
  },
  {
   "cell_type": "code",
   "execution_count": 19,
   "metadata": {
    "collapsed": false
   },
   "outputs": [
    {
     "data": {
      "text/plain": [
       "[15, 25, 20, 17, 15]"
      ]
     },
     "execution_count": 19,
     "metadata": {},
     "output_type": "execute_result"
    }
   ],
   "source": [
    "# You can also use negative step sizes!  This will essentially reverse the list.\n",
    "\n",
    "five_day_forecast[::-1]"
   ]
  },
  {
   "cell_type": "markdown",
   "metadata": {},
   "source": [
    "### Iterating over lists using For Loops"
   ]
  },
  {
   "cell_type": "markdown",
   "metadata": {},
   "source": [
    "The \"for loop\" is the most common type of list used in Python and, in many cases, is the only type of loop you need.  It lets us access each of the elements in our list, one at a time. As each of the elements is accessed, it is stored in a temporary variable (for which we can choose any name we like).  We can then take any arbitrary action of our choosing with the list element.\n",
    "\n",
    "Check out the example below, which simply iterates over the elements of our list and prints a message indicating the temperature on that day."
   ]
  },
  {
   "cell_type": "code",
   "execution_count": 20,
   "metadata": {
    "collapsed": false
   },
   "outputs": [
    {
     "name": "stdout",
     "output_type": "stream",
     "text": [
      "The temp on this day is 15\n",
      "The temp on this day is 17\n",
      "The temp on this day is 20\n",
      "The temp on this day is 25\n",
      "The temp on this day is 15\n"
     ]
    }
   ],
   "source": [
    "for daily_temp in five_day_forecast:\n",
    "    print(\"The temp on this day is\", daily_temp)"
   ]
  },
  {
   "cell_type": "markdown",
   "metadata": {},
   "source": [
    "You can read the <code>for</code> loop in the above example as \"For each daily temperature in the five day forecast, print the daily temperature\".  <code>daily_temp</code> is a temporary variable - every time the loop runs, it takes on the next value in  the <code>five_day_forecast</code> list.  On the first iteration it is equal to 15, on the second iteration it is equal to 17, and so on."
   ]
  },
  {
   "cell_type": "markdown",
   "metadata": {},
   "source": [
    "Python is fundementally built around iteration, and provides many powerful tools to help us iterate more effectively.  For example, we can use the built-in <code>enumerate</code> function below to obtain the index of the current element, and the current element itself, simultaneously.  \n",
    "\n",
    "Let's use this to see what we would need to wear on each day of our trip."
   ]
  },
  {
   "cell_type": "markdown",
   "metadata": {},
   "source": [
    "First, let's create a new version of our <code>what_to_wear</code> function.  The in our previous versions, we were printing the clothing recommendation directly.  This has suited our purposes so far, but it is a bit limiting now that we want to do some work with the output.  Instead of printing the recommendation, <code>what_to_wear_v4</code> will <code>return</code> it as a string.  We can then assign the string to a variable and manipulate it to our liking."
   ]
  },
  {
   "cell_type": "code",
   "execution_count": 21,
   "metadata": {
    "collapsed": true
   },
   "outputs": [],
   "source": [
    "def what_to_wear_v4(temp_in_celcius, t_shirt_cutoff=72, light_jacket_cutoff=60):\n",
    "    \"\"\" This function tells the user what to pack for a trip to Canada, given a temperature in Celcius.  \n",
    "        The user can optionally provide their own \"cutoff\" termperatures for t-shirts and light jackets.\n",
    "        The recommendation is returned to the user as a string\n",
    "    \"\"\"\n",
    "    \n",
    "    temp_in_fahrenheit = ((temp_in_celcius * 9) / 5) + 32 \n",
    "\n",
    "    if temp_in_fahrenheit > t_shirt_cutoff:\n",
    "        recommendation = \"Wear a t-shirt\"\n",
    "    elif temp_in_fahrenheit > light_jacket_cutoff:\n",
    "        recommendation = \"Wear a light jacket\"\n",
    "    else:\n",
    "        recommendation = \"Wear a parka\"\n",
    "    \n",
    "    return recommendation"
   ]
  },
  {
   "cell_type": "markdown",
   "metadata": {},
   "source": [
    "Rather than printing our message directly, the <code>what_to_wear_v4</code> will *return* our recommendation when we call it. Since the value is being returned to us, we can assign it to a variable and use it as we wish.  \n",
    "\n",
    "In the example below, we call our new <code>what_to_wear_v4</code> function, store it's value in a variable called <code>recommendation</code>, then customize the message by including the curretn day.  Take a look!"
   ]
  },
  {
   "cell_type": "code",
   "execution_count": 22,
   "metadata": {
    "collapsed": false
   },
   "outputs": [
    {
     "name": "stdout",
     "output_type": "stream",
     "text": [
      "On day 1, wear a parka.\n",
      "On day 2, wear a light jacket.\n",
      "On day 3, wear a light jacket.\n",
      "On day 4, wear a t-shirt.\n",
      "On day 5, wear a parka.\n"
     ]
    }
   ],
   "source": [
    "for current_index, daily_temp in enumerate(five_day_forecast):\n",
    "    \n",
    "    recommendation = what_to_wear_v4(daily_temp) # Use our updated function to grab the daily recommendation \n",
    "    current_day = current_index + 1 # The indexes start at 0 and go up to 4.  We want our messages to start at 1 and go to 5.\n",
    "    current_day = str(current_day) # We need to convert the current day to a string in order to add it to our message\n",
    "    \n",
    "    # We can use the + operator to concatonate (aka combine) multiple strings into a single larger string\n",
    "    message = \"On day \" + current_day + \", \" + recommendation.lower() + \".\"\n",
    "    \n",
    "    print(message)"
   ]
  },
  {
   "cell_type": "markdown",
   "metadata": {},
   "source": [
    "And there you have it!  This is the most complicated piece of code we have used thus far, so you may need to take a moment to break it down.  \n",
    "\n",
    "In short, what's happening is that we are:\n",
    "\n",
    "* Using the <code>enumerate</code> function to simulatenously get the index and the daily temperature for each element in our list\n",
    "* For each element, we:\n",
    "    * Get the recomended clothing based on the daily forecast\n",
    "    * Determine the current day by adding 1 to the current index\n",
    "    * Convert the current day to a string\n",
    "    * Build our <code>message</code> string by adding concatonating (or, combining) the current day, the recomendation, and some other language.\n",
    "\n",
    "Notice how we can use the <code>lower</code> method of the <code>str</code> type (discussed in tutorial 2) to get a lower-case version of this string.  Try removing this method call from the code block and see how it affects the output!"
   ]
  },
  {
   "cell_type": "markdown",
   "metadata": {},
   "source": [
    "### List Operations"
   ]
  },
  {
   "cell_type": "markdown",
   "metadata": {},
   "source": [
    "Like all Python data types, lists implement a number of handy methods.  As you recall from tutorial 2, we can view all available methods by calling the builtin <code>dir</code> function on the <code>list</code> type.  \n",
    "\n",
    "A quick aside: the methods surrounded by double-underscores are called \"magic\" or \"dunder\" methods, tell the interpretter what to do if certain operations are performed on the object.  The <code>__add__</code> method, for example, defines what will happen when we attempt to add another object to a list using the <code>+</code>.  These \"dunder\" methods (short for double-underscore) are an incredibly powerful language feature that allow us significant flexibility when we're designing our own objects (which is unfortunately outside the scope of this tutorial series).  For now, it is good to know that these methods should bascically never be called directly by the user.  The \"usable\" functions are towards the bottom of the list, starting with <code>append</code>."
   ]
  },
  {
   "cell_type": "code",
   "execution_count": 23,
   "metadata": {
    "collapsed": false
   },
   "outputs": [
    {
     "data": {
      "text/plain": [
       "['__add__',\n",
       " '__class__',\n",
       " '__contains__',\n",
       " '__delattr__',\n",
       " '__delitem__',\n",
       " '__dir__',\n",
       " '__doc__',\n",
       " '__eq__',\n",
       " '__format__',\n",
       " '__ge__',\n",
       " '__getattribute__',\n",
       " '__getitem__',\n",
       " '__gt__',\n",
       " '__hash__',\n",
       " '__iadd__',\n",
       " '__imul__',\n",
       " '__init__',\n",
       " '__iter__',\n",
       " '__le__',\n",
       " '__len__',\n",
       " '__lt__',\n",
       " '__mul__',\n",
       " '__ne__',\n",
       " '__new__',\n",
       " '__reduce__',\n",
       " '__reduce_ex__',\n",
       " '__repr__',\n",
       " '__reversed__',\n",
       " '__rmul__',\n",
       " '__setattr__',\n",
       " '__setitem__',\n",
       " '__sizeof__',\n",
       " '__str__',\n",
       " '__subclasshook__',\n",
       " 'append',\n",
       " 'clear',\n",
       " 'copy',\n",
       " 'count',\n",
       " 'extend',\n",
       " 'index',\n",
       " 'insert',\n",
       " 'pop',\n",
       " 'remove',\n",
       " 'reverse',\n",
       " 'sort']"
      ]
     },
     "execution_count": 23,
     "metadata": {},
     "output_type": "execute_result"
    }
   ],
   "source": [
    "dir(list)"
   ]
  },
  {
   "cell_type": "markdown",
   "metadata": {},
   "source": [
    "Let's take a brief tour of the most useful methods available in the <code>list</code> class. "
   ]
  },
  {
   "cell_type": "code",
   "execution_count": 28,
   "metadata": {
    "collapsed": false
   },
   "outputs": [
    {
     "name": "stdout",
     "output_type": "stream",
     "text": [
      "Before: [15, 17, 20, 25, 15, 30]\n",
      "After: [15, 17, 20, 25, 15, 30, 30]\n"
     ]
    }
   ],
   "source": [
    "# We can add an element to our list with append.\n",
    "\n",
    "print(\"Before:\", five_day_forecast)\n",
    "five_day_forecast.append(30)\n",
    "print(\"After:\", five_day_forecast)"
   ]
  },
  {
   "cell_type": "code",
   "execution_count": 29,
   "metadata": {
    "collapsed": false
   },
   "outputs": [
    {
     "name": "stdout",
     "output_type": "stream",
     "text": [
      "Before: [15, 17, 20, 25, 15, 30, 30]\n",
      "Popping element 30 from the end of the list\n",
      "After: [15, 17, 20, 25, 15, 30]\n"
     ]
    }
   ],
   "source": [
    "# We can retrieve the last element from the list and simultaneously remove that element from the list by calling pop.\n",
    "print(\"Before:\", five_day_forecast)\n",
    "print(\"Popping element\", five_day_forecast.pop(), \"from the end of the list\")\n",
    "print(\"After:\", five_day_forecast)"
   ]
  },
  {
   "cell_type": "code",
   "execution_count": 31,
   "metadata": {
    "collapsed": false
   },
   "outputs": [
    {
     "name": "stdout",
     "output_type": "stream",
     "text": [
      "Before: [15, 17, 20, 25, 15, 30, 30, 29, 28, 27, 26]\n",
      "After: [15, 17, 20, 25, 15, 30, 30, 29, 28, 27, 26, 30, 29, 28, 27, 26]\n"
     ]
    }
   ],
   "source": [
    "# We can combine two lists by calling extend on the first list, with the second list as the argument\n",
    "next_weeks_five_day_forecast = [30, 29, 28, 27, 26]\n",
    "\n",
    "print(\"Before:\", five_day_forecast)\n",
    "five_day_forecast.extend(next_weeks_five_day_forecast)\n",
    "print(\"After:\", five_day_forecast)"
   ]
  },
  {
   "cell_type": "code",
   "execution_count": 34,
   "metadata": {
    "collapsed": false
   },
   "outputs": [
    {
     "data": {
      "text/plain": [
       "2"
      ]
     },
     "execution_count": 34,
     "metadata": {},
     "output_type": "execute_result"
    }
   ],
   "source": [
    "# We can find the first index at which an element appears by calling the index method\n",
    "\n",
    "five_day_forecast.index(20) # Returns 20, since the first occurance of \"20\" is at index 2 (remember - we start counting from 0)."
   ]
  },
  {
   "cell_type": "markdown",
   "metadata": {},
   "source": [
    "### Conclusion and Next Steps"
   ]
  },
  {
   "cell_type": "markdown",
   "metadata": {},
   "source": [
    "In this tutorial series, we introduced the concept of the \"collection\" - a fundemental data type that allows us to hold multiple  elements in a single place.  \n",
    "\n",
    "To summarize, we:\n",
    "* Learned about the <code>list</code> data type and demonstrated how we can use this feature to group together pieces of data that are logically related - such as the weather forecasts for the next 5 days.\n",
    "* Introduced iteration, one of the most powerful concepts available to the Python programmer, through the use of the <code>for</code> loop and the <code>enumerate</code> function.  \n",
    "* Explored some of the methods available in the <code>list</code> type, including append, pop, extend, and index.\n",
    "\n",
    "In the next tutorial, we will expand our discussion of collections by introducing two more fundemental data types - the <code>tuple</code> and the <code>dictionary</code>.\n",
    "\n",
    "### Next Tutorial\n",
    "[4. Tuples and Dictionaries](./4%20-%20Tuples%20and%20Dictionaries.ipynb)\n"
   ]
  },
  {
   "cell_type": "code",
   "execution_count": null,
   "metadata": {
    "collapsed": true
   },
   "outputs": [],
   "source": []
  }
 ],
 "metadata": {
  "kernelspec": {
   "display_name": "Python 3",
   "language": "python",
   "name": "python3"
  },
  "language_info": {
   "codemirror_mode": {
    "name": "ipython",
    "version": 3
   },
   "file_extension": ".py",
   "mimetype": "text/x-python",
   "name": "python",
   "nbconvert_exporter": "python",
   "pygments_lexer": "ipython3",
   "version": "3.5.3"
  },
  "widgets": {
   "state": {},
   "version": "1.1.2"
  }
 },
 "nbformat": 4,
 "nbformat_minor": 0
}
